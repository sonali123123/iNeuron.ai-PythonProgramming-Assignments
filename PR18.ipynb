{
 "cells": [
  {
   "cell_type": "code",
   "execution_count": null,
   "id": "74ead4f2",
   "metadata": {},
   "outputs": [],
   "source": [
    "# Python Programming Assignment-18\n",
    "#Q1. Create a function that takes a lists of non-negative integers and strings and return a new list without the\n",
    "#    strings?\n"
   ]
  },
  {
   "cell_type": "code",
   "execution_count": 1,
   "id": "807f19ad",
   "metadata": {},
   "outputs": [
    {
     "name": "stdout",
     "output_type": "stream",
     "text": [
      "[7, 8, 456]\n"
     ]
    }
   ],
   "source": [
    "class List:\n",
    "    def filter_list(self,l):\n",
    "        self.l = l\n",
    "        try:\n",
    "            out_list = []\n",
    "            for i in self.l:\n",
    "                if type(i)==int and i>=0:\n",
    "                    out_list.append(i)\n",
    "            print(out_list)\n",
    "        except Exception as e:\n",
    "            print(e)\n",
    "obj = List()\n",
    "obj.filter_list([7,\"asf\",8,\"9\",456])"
   ]
  },
  {
   "cell_type": "code",
   "execution_count": 2,
   "id": "1ba8644d",
   "metadata": {},
   "outputs": [
    {
     "name": "stdout",
     "output_type": "stream",
     "text": [
      "DLROw OLLEh\n"
     ]
    }
   ],
   "source": [
    "#Q2. The \"Reverser\" takes a string as input and returns that string in reverse order, with the opposite case?\n",
    "class string:\n",
    "    def reverse(self,in_string):\n",
    "        self.in_string = in_string\n",
    "        try:\n",
    "            out_string = in_string[::-1].swapcase()\n",
    "            print(out_string)\n",
    "        except Exception as e:\n",
    "            print(e)\n",
    "obj = string()\n",
    "obj.reverse(\"Hello World\")"
   ]
  },
  {
   "cell_type": "code",
   "execution_count": 3,
   "id": "c7c3750b",
   "metadata": {},
   "outputs": [
    {
     "name": "stdout",
     "output_type": "stream",
     "text": [
      "first_l =  1\n",
      "middle  [2, 3, 4, 5]\n",
      "last  6\n"
     ]
    }
   ],
   "source": [
    "#Q3. You can assign variables from lists like this:\n",
    "#    lst = [1,3,4,5,6]\n",
    "#    first = lst[0]\n",
    "#    second = lst[1:-1]\n",
    "#    third = lst[-1]\n",
    "#    print(first)-outputs [2,3,4,5]\n",
    "#    print(last)-output 6\n",
    "# With Python 3,you can assign variables from list in a much more succint way.Create variables first,middle and\n",
    "# last from the given list using destructing assignment\n",
    "# (check the Resources tab for some examples),where:\n",
    "# first-1\n",
    "# middle-[2,3,4,5]\n",
    "# last-6\n",
    "# Your task is to unpack the list writeyourcodehere into three variables ,being first,middle and last element.\n",
    "# Then print all three variables.\n",
    "\n",
    "\n",
    "class List:\n",
    "    def first_middle_last_list(self,l):\n",
    "        self.l = l\n",
    "        try:\n",
    "           print(\"first_l = \",l[0])\n",
    "           print(\"middle \",l[1:-1])\n",
    "           print(\"last \",l[-1])\n",
    "\n",
    "        except Exception as e:\n",
    "            print(e)\n",
    "obj = List()\n",
    "obj.first_middle_last_list([1,2,3,4,5,6])"
   ]
  },
  {
   "cell_type": "code",
   "execution_count": 4,
   "id": "253709a8",
   "metadata": {},
   "outputs": [
    {
     "name": "stdout",
     "output_type": "stream",
     "text": [
      "factorial(5):120\n",
      "factorial(0):1\n",
      "factorial(1):1\n",
      "factorial(10):3628800\n"
     ]
    }
   ],
   "source": [
    "#Q4. Write a function that calculates the factorial of a number recursively\n",
    "# Examples: factorial(5)-120\n",
    "# factorial(3)-6\n",
    "# factorial(1)-1\n",
    "# factorial(0)-1\n",
    "\n",
    "def factorial(n):\n",
    "    if n==0:\n",
    "        return 1\n",
    "    else:\n",
    "        return n*factorial(n-1)\n",
    "print(f'factorial(5):{factorial(5)}')\n",
    "print(f'factorial(0):{factorial(0)}')\n",
    "print(f'factorial(1):{factorial(1)}')\n",
    "print(f'factorial(10):{factorial(10)}')"
   ]
  },
  {
   "cell_type": "code",
   "execution_count": 5,
   "id": "b31018d3",
   "metadata": {},
   "outputs": [
    {
     "name": "stdout",
     "output_type": "stream",
     "text": [
      "move_to_end([7,8,9,1,2,3,4],9):[7, 8, 1, 2, 3, 4, 9]\n",
      "move_to_end([\"a\",\"a\",\"a\",\"b\"],\"a\"):['b', 'a', 'a', 'a']\n"
     ]
    }
   ],
   "source": [
    "#Q5. Write a funnction that moves all elements of one type to the  end of the list\n",
    "#    Examples: move_to_end([1,3,2,4,4,1]-[3,2,4,4,1,1])\n",
    "#    Move to all the 1s to the end of the array\n",
    "#    move_to_end([7,8,9,1,2,3,4],9)-[7,8,1,2,3,4,9]\n",
    "#    move _to_end([\"a\",\"a\",\"a\",\"b\"],\"a\")-[\"b\",\"a\",\"a\",\"a\"]\n",
    "\n",
    "def move_to_end(list,num):\n",
    "    first_end = []\n",
    "    second_end = []\n",
    "    for i in list:\n",
    "        if i == num:\n",
    "            second_end.append(i)\n",
    "        else:\n",
    "            first_end.append(i)\n",
    "    first_end.extend(second_end)\n",
    "    return first_end\n",
    "print(f'move_to_end([7,8,9,1,2,3,4],9):{move_to_end([7,8,9,1,2,3,4],9)}')\n",
    "print(f'move_to_end([\"a\",\"a\",\"a\",\"b\"],\"a\"):{move_to_end([\"a\",\"a\",\"a\",\"b\"],\"a\")}')"
   ]
  }
 ],
 "metadata": {
  "kernelspec": {
   "display_name": "Python 3 (ipykernel)",
   "language": "python",
   "name": "python3"
  },
  "language_info": {
   "codemirror_mode": {
    "name": "ipython",
    "version": 3
   },
   "file_extension": ".py",
   "mimetype": "text/x-python",
   "name": "python",
   "nbconvert_exporter": "python",
   "pygments_lexer": "ipython3",
   "version": "3.9.12"
  }
 },
 "nbformat": 4,
 "nbformat_minor": 5
}
