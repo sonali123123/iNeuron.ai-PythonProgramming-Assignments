{
 "cells": [
  {
   "cell_type": "code",
   "execution_count": 1,
   "id": "9ee44299",
   "metadata": {},
   "outputs": [],
   "source": [
    "#Q1. Write  a python program to find factoorial of a number"
   ]
  },
  {
   "cell_type": "code",
   "execution_count": null,
   "id": "5d4c4f18",
   "metadata": {},
   "outputs": [],
   "source": [
    "num=int(input(\"Enter a number: \"))\n",
    "fac=1\n",
    "a=1\n",
    "while a<=num:\n",
    "    fac*=a   #fac=fac*a\n",
    "    a+=1     #a=a+1\n",
    "print(\"The factorial of\",num,\"is\",fac)"
   ]
  },
  {
   "cell_type": "code",
   "execution_count": 5,
   "id": "4dee7b17",
   "metadata": {},
   "outputs": [],
   "source": [
    "#Q2. Write a python program to dispay  multiplication table"
   ]
  },
  {
   "cell_type": "code",
   "execution_count": 8,
   "id": "784dd417",
   "metadata": {},
   "outputs": [
    {
     "name": "stdout",
     "output_type": "stream",
     "text": [
      "Enter  the number: 15\n",
      "15 * 1 = 15\n",
      "15 * 2 = 30\n",
      "15 * 3 = 45\n",
      "15 * 4 = 60\n",
      "15 * 5 = 75\n",
      "15 * 6 = 90\n",
      "15 * 7 = 105\n",
      "15 * 8 = 120\n",
      "15 * 9 = 135\n",
      "15 * 10 = 150\n"
     ]
    }
   ],
   "source": [
    "num=int(input(\"Enter  the number: \"))\n",
    "for a  in range(1,11):\n",
    "    print(num,\"*\",a,\"=\",num*a)"
   ]
  },
  {
   "cell_type": "code",
   "execution_count": 9,
   "id": "7c1d543e",
   "metadata": {},
   "outputs": [],
   "source": [
    "#Q3. Write a python program to print the Fibonacci sequence"
   ]
  },
  {
   "cell_type": "code",
   "execution_count": 12,
   "id": "b8a70b6f",
   "metadata": {},
   "outputs": [
    {
     "name": "stdout",
     "output_type": "stream",
     "text": [
      "enter first number of element  20\n",
      "0\n",
      "1\n",
      "1\n",
      "2\n",
      "3\n",
      "5\n",
      "8\n",
      "13\n",
      "21\n",
      "34\n",
      "55\n",
      "89\n",
      "144\n",
      "233\n",
      "377\n",
      "610\n",
      "987\n",
      "1597\n",
      "2584\n",
      "4181\n"
     ]
    }
   ],
   "source": [
    "element=int(input(\"enter first number of element  \"))\n",
    "first=0\n",
    "second=1\n",
    "print(first)\n",
    "print(second)\n",
    "for element in range(1,element-1):\n",
    "    third=first+second\n",
    "    print(third)\n",
    "    first,second=second,third\n"
   ]
  },
  {
   "cell_type": "code",
   "execution_count": 4,
   "id": "09750ded",
   "metadata": {},
   "outputs": [],
   "source": [
    "#Q4. Write a python program to check armstrong number"
   ]
  },
  {
   "cell_type": "code",
   "execution_count": 6,
   "id": "6ba63f3b",
   "metadata": {},
   "outputs": [
    {
     "name": "stdout",
     "output_type": "stream",
     "text": [
      "enter the number: 663\n",
      "663 is not an armstrong number\n"
     ]
    }
   ],
   "source": [
    "n=int(input(\"enter the number: \"))\n",
    "sum=0\n",
    "temp=n\n",
    "while temp>0:\n",
    "    digit=temp%10\n",
    "    sum=sum+digit**3\n",
    "    temp=temp//10\n",
    "if n==sum:\n",
    "    print(n,\"is an armstrong number\")\n",
    "else:\n",
    "    print(n,\"is not an armstrong number\")"
   ]
  },
  {
   "cell_type": "code",
   "execution_count": 13,
   "id": "cc6b6529",
   "metadata": {},
   "outputs": [],
   "source": [
    "#Q5. Write a python program to print armstrong number in an interval"
   ]
  },
  {
   "cell_type": "code",
   "execution_count": 1,
   "id": "88c38df7",
   "metadata": {},
   "outputs": [
    {
     "name": "stdout",
     "output_type": "stream",
     "text": [
      "enter the lower number: 100\n",
      "enter the upper nummber: 2000\n",
      "153\n",
      "370\n",
      "371\n",
      "407\n",
      "1634\n"
     ]
    }
   ],
   "source": [
    "lower=int(input(\"enter the lower number: \"))\n",
    "upper=int(input(\"enter the upper nummber: \"))\n",
    "for num in range(lower,upper+1):\n",
    "    #order of number\n",
    "    order=len(str(num))\n",
    "    \n",
    "    #intializing sum =0\n",
    "    sum=0\n",
    "    \n",
    "    temp=num\n",
    "    while temp>0:\n",
    "        digit=temp%10\n",
    "        sum=sum+digit**order\n",
    "        temp=temp//10\n",
    "    if num==sum:\n",
    "        print(num)"
   ]
  },
  {
   "cell_type": "code",
   "execution_count": 2,
   "id": "57c9bac1",
   "metadata": {},
   "outputs": [],
   "source": [
    "#Q6. Write a python program to find sum of natural numbers"
   ]
  },
  {
   "cell_type": "code",
   "execution_count": 3,
   "id": "cb7de144",
   "metadata": {},
   "outputs": [
    {
     "name": "stdout",
     "output_type": "stream",
     "text": [
      "enter up to natural number!: 6\n",
      "sum of number is 21\n"
     ]
    }
   ],
   "source": [
    "n=int(input(\"enter up to natural number!: \"))\n",
    "i=1\n",
    "sum=0\n",
    "while i<=n:\n",
    "    sum=sum+i\n",
    "    i=i+1\n",
    "print(\"sum of number is\",sum)"
   ]
  },
  {
   "cell_type": "code",
   "execution_count": null,
   "id": "f3109b92",
   "metadata": {},
   "outputs": [],
   "source": []
  }
 ],
 "metadata": {
  "kernelspec": {
   "display_name": "Python 3 (ipykernel)",
   "language": "python",
   "name": "python3"
  },
  "language_info": {
   "codemirror_mode": {
    "name": "ipython",
    "version": 3
   },
   "file_extension": ".py",
   "mimetype": "text/x-python",
   "name": "python",
   "nbconvert_exporter": "python",
   "pygments_lexer": "ipython3",
   "version": "3.9.12"
  }
 },
 "nbformat": 4,
 "nbformat_minor": 5
}
