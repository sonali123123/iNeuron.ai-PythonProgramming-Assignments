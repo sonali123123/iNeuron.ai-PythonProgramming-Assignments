{
 "cells": [
  {
   "cell_type": "code",
   "execution_count": 3,
   "id": "5a622c5a",
   "metadata": {},
   "outputs": [
    {
     "name": "stdout",
     "output_type": "stream",
     "text": [
      "Enter the number of entries in a list: 5\n",
      "Enter the element: 2\n",
      "Enter the element: 3\n",
      "Enter the element: 7\n",
      "Enter the element: 5\n",
      "Enter the element: 4\n",
      "Sum of elements: 21\n"
     ]
    }
   ],
   "source": [
    "#Q1. Write a python program to find sum of elements in a list?\n",
    "\n",
    "\n",
    "def sumofList():\n",
    "    in_ele = int(input(\"Enter the number of entries in a list: \"))\n",
    "    in_list = []\n",
    "    for i in range(in_ele):\n",
    "        in_list.append(int(input(\"Enter the element: \")))\n",
    "    print(f\"Sum of elements: {sum(in_list)}\")\n",
    "sumofList()\n"
   ]
  },
  {
   "cell_type": "code",
   "execution_count": null,
   "id": "c48859e7",
   "metadata": {},
   "outputs": [],
   "source": [
    "#Q2. Write a python program to multiply all elements in a list?"
   ]
  },
  {
   "cell_type": "code",
   "execution_count": 4,
   "id": "729a69d8",
   "metadata": {},
   "outputs": [
    {
     "name": "stdout",
     "output_type": "stream",
     "text": [
      "Enter the number of elements in a list: 5\n",
      "Enter an element: 2\n",
      "Enter an element: 4\n",
      "Enter an element: 1\n",
      "Enter an element: 5\n",
      "Enter an element: 6\n",
      "240\n"
     ]
    }
   ],
   "source": [
    "def mulofList():\n",
    "    in_ele=int(input(\"Enter the number of elements in a list: \"))\n",
    "    in_list=[]\n",
    "    mul=1\n",
    "    for i in range(in_ele):\n",
    "        in_list.append(int(input(\"Enter an element: \")))\n",
    "    for ele in in_list:\n",
    "        mul=mul*ele\n",
    "    print(mul)\n",
    "mulofList()\n"
   ]
  },
  {
   "cell_type": "markdown",
   "id": "60145aaa",
   "metadata": {},
   "source": []
  },
  {
   "cell_type": "code",
   "execution_count": null,
   "id": "4f42b852",
   "metadata": {},
   "outputs": [],
   "source": [
    "#Q3. Write a python program to find smallest number in a list?"
   ]
  },
  {
   "cell_type": "code",
   "execution_count": 5,
   "id": "014e59ba",
   "metadata": {},
   "outputs": [
    {
     "name": "stdout",
     "output_type": "stream",
     "text": [
      "Enter the number of elements: 5\n",
      "Enter an element: 9\n",
      "Enter an element: 7\n",
      "Enter an element: 0\n",
      "Enter an element: 4\n",
      "Enter an element: 1\n",
      "The Smallest number in: [9, 7, 0, 4, 1] is 0\n"
     ]
    }
   ],
   "source": [
    "def smallinList():\n",
    "    in_ele=int(input(\"Enter the number of elements: \"))\n",
    "    in_list=[]\n",
    "    for i in range(in_ele):\n",
    "        in_list.append(int(input(\"Enter an element: \")))\n",
    "    print(f'The Smallest number in: {in_list} is {sorted(in_list)[0]}')\n",
    "smallinList()"
   ]
  },
  {
   "cell_type": "code",
   "execution_count": null,
   "id": "1d213fec",
   "metadata": {},
   "outputs": [],
   "source": [
    "#Q4. Write a python program to find largest number in a list?"
   ]
  },
  {
   "cell_type": "code",
   "execution_count": 6,
   "id": "ad9fc24e",
   "metadata": {},
   "outputs": [
    {
     "name": "stdout",
     "output_type": "stream",
     "text": [
      "Enter the number of entries: 6\n",
      "Enter an element: 0\n",
      "Enter an element: 8\n",
      "Enter an element: 1\n",
      "Enter an element: 7\n",
      "Enter an element: 3\n",
      "Enter an element: 5\n",
      "The largest number in: [0, 8, 1, 7, 3, 5] is 8\n"
     ]
    }
   ],
   "source": [
    "def largeinList():\n",
    "    in_ele = int(input(\"Enter the number of entries: \"))\n",
    "    in_list=[]\n",
    "    for i in range(in_ele):\n",
    "        in_list.append(int(input(\"Enter an element: \")))\n",
    "    print(f\"The largest number in: {in_list} is {sorted(in_list)[-1]}\")\n",
    "largeinList()"
   ]
  },
  {
   "cell_type": "code",
   "execution_count": null,
   "id": "6301db2b",
   "metadata": {},
   "outputs": [],
   "source": [
    "#Q5. Write a python program to second largest number in a list?"
   ]
  },
  {
   "cell_type": "code",
   "execution_count": 7,
   "id": "ca21486f",
   "metadata": {},
   "outputs": [
    {
     "name": "stdout",
     "output_type": "stream",
     "text": [
      "Enter the number of entrries: 5\n",
      "Enter an element: 9\n",
      "Enter an element: 3\n",
      "Enter an element: 1\n",
      "Enter an element: 6\n",
      "Enter an element: 4\n",
      "The seond largest element in : [9, 3, 1, 6, 4] is 6\n"
     ]
    }
   ],
   "source": [
    "def sec_large_inList():\n",
    "    in_ele = int(input(\"Enter the number of entrries: \"))\n",
    "    in_list = []\n",
    "    for i in range(in_ele):\n",
    "        in_list.append(int(input(\"Enter an element: \")))\n",
    "    print(f\"The seond largest element in : {in_list} is {sorted(in_list)[-2]}\")\n",
    "sec_large_inList()"
   ]
  },
  {
   "cell_type": "markdown",
   "id": "e3eb9232",
   "metadata": {},
   "source": [
    " "
   ]
  },
  {
   "cell_type": "code",
   "execution_count": null,
   "id": "327b030d",
   "metadata": {},
   "outputs": [],
   "source": [
    "#Q6. Write a python program to find N largest number in a list?"
   ]
  },
  {
   "cell_type": "code",
   "execution_count": 8,
   "id": "f4e18748",
   "metadata": {},
   "outputs": [
    {
     "name": "stdout",
     "output_type": "stream",
     "text": [
      "Enter the number of elements: 5\n",
      "Enter an element: 3\n",
      "Enter an element: 6\n",
      "Enter an element: 9\n",
      "Enter an element: 6\n",
      "Enter an element: 2\n",
      "The 4 largest element in [3, 6, 9, 6, 2] is [9, 6, 6, 3]\n"
     ]
    }
   ],
   "source": [
    "def Nlarge_inList(k):\n",
    "    in_ele = int(input(\"Enter the number of elements: \"))\n",
    "    in_list = []\n",
    "    for i in range(in_ele):\n",
    "        in_list.append(int(input(\"Enter an element: \")))\n",
    "    print(f\"The {k} largest element in {in_list} is {sorted(in_list,reverse=True)[0:k]}\")\n",
    "\n",
    "Nlarge_inList(4)\n"
   ]
  },
  {
   "cell_type": "code",
   "execution_count": null,
   "id": "46b6bc65",
   "metadata": {},
   "outputs": [],
   "source": [
    "#Q7. Write a python program to find even number in a list?"
   ]
  },
  {
   "cell_type": "code",
   "execution_count": 9,
   "id": "83ffc245",
   "metadata": {},
   "outputs": [
    {
     "name": "stdout",
     "output_type": "stream",
     "text": [
      "Enter the number of elements: 4\n",
      "Enter an element: 7\n",
      "Enter an element: 8\n",
      "Enter an element: 5\n",
      "Enter an element: 0\n",
      "The Even elements in [7, 8, 5, 0] are [8, 0]\n"
     ]
    }
   ],
   "source": [
    "def evenInList():\n",
    "    in_ele = int(input(\"Enter the number of elements: \"))\n",
    "    in_list = []\n",
    "    even_list = []\n",
    "    for i in range(in_ele):\n",
    "        in_list.append(int(input(\"Enter an element: \")))\n",
    "    for i in in_list:\n",
    "        if i%2==0:\n",
    "            even_list.append(i)\n",
    "    print(f\"The Even elements in {in_list} are {even_list}\")\n",
    "evenInList()\n"
   ]
  },
  {
   "cell_type": "code",
   "execution_count": null,
   "id": "04659838",
   "metadata": {},
   "outputs": [],
   "source": [
    "#Q8. Write a python program to find odd number in a list?"
   ]
  },
  {
   "cell_type": "code",
   "execution_count": 10,
   "id": "7d04808f",
   "metadata": {},
   "outputs": [
    {
     "name": "stdout",
     "output_type": "stream",
     "text": [
      "Enter the number of entries: 5\n",
      "Enter an element: 1\n",
      "Enter an element: 6\n",
      "Enter an element: 3\n",
      "Enter an element: 9\n",
      "Enter an element: 0\n",
      "The odd elements in [1, 6, 3, 9, 0] are [1, 3, 9]\n"
     ]
    }
   ],
   "source": [
    "\n",
    "def oddInList():\n",
    "    in_ele = int(input(\"Enter the number of entries: \"))\n",
    "    in_list = []\n",
    "    odd_list = []\n",
    "    for i in range(in_ele):\n",
    "        in_list.append(int(input(\"Enter an element: \")))\n",
    "    for i in in_list:\n",
    "        if i%2 != 0:\n",
    "            odd_list.append(i)\n",
    "    print(f\"The odd elements in {in_list} are {odd_list}\")\n",
    "oddInList()"
   ]
  },
  {
   "cell_type": "code",
   "execution_count": 11,
   "id": "a61e368a",
   "metadata": {},
   "outputs": [],
   "source": [
    "#Q9. Write a python program to remove empty list from list?"
   ]
  },
  {
   "cell_type": "code",
   "execution_count": 1,
   "id": "2e0ecbfa",
   "metadata": {},
   "outputs": [
    {
     "name": "stdout",
     "output_type": "stream",
     "text": [
      "Enter the elements of list: [7,0,8,3,[],6,1]\n",
      "There is an empty list in [7, 0, 8, 3, [], 6, 1] at position 4\n",
      "The list after removing [] is [7, 0, 8, 3, 6, 1]\n"
     ]
    }
   ],
   "source": [
    "def checkEmptyList():\n",
    "    in_list = eval(input(\"Enter the elements of list: \"))\n",
    "    if [] in in_list:\n",
    "        print(f\"There is an empty list in {in_list} at position {in_list.index([])}\")\n",
    "        in_list.remove([])\n",
    "        print(f\"The list after removing [] is {in_list}\")\n",
    "    else:\n",
    "        print(f\"There is no [] list in {in_list}\")\n",
    "checkEmptyList()"
   ]
  },
  {
   "cell_type": "code",
   "execution_count": 2,
   "id": "c4e12be2",
   "metadata": {},
   "outputs": [],
   "source": [
    "#Q10. Write a python program to Cloning or copying a list?"
   ]
  },
  {
   "cell_type": "code",
   "execution_count": 3,
   "id": "5b6db150",
   "metadata": {},
   "outputs": [
    {
     "name": "stdout",
     "output_type": "stream",
     "text": [
      "Enter a list[1,5,8,6,0,2,3,4]\n",
      "[1, 5, 8, 6, 0, 2, 3, 4] 1667545682560\n",
      "[1, 5, 8, 6, 0, 2, 3, 4] 1667545402048\n"
     ]
    }
   ],
   "source": [
    "import copy\n",
    "\n",
    "def cloneList():\n",
    "    in_list = eval(input(\"Enter a list\"))\n",
    "    print(in_list,id(in_list))\n",
    "    cloned_list = in_list.copy()\n",
    "    print(cloned_list,id(cloned_list))\n",
    "cloneList()"
   ]
  },
  {
   "cell_type": "code",
   "execution_count": 4,
   "id": "bc39c72f",
   "metadata": {},
   "outputs": [],
   "source": [
    "#Q11. Write a python program to count occurences of an element in a list?"
   ]
  },
  {
   "cell_type": "code",
   "execution_count": 5,
   "id": "f22b8f99",
   "metadata": {},
   "outputs": [
    {
     "name": "stdout",
     "output_type": "stream",
     "text": [
      "Enter The elements of list: [5,0,7,5,8,5,3,5,5]\n",
      "Enter the element to find occurence: 5\n",
      "There are 5 occurences of 5 in [5, 0, 7, 5, 8, 5, 3, 5, 5]\n"
     ]
    }
   ],
   "source": [
    "def checkOccurence():\n",
    "    in_list = eval(input(\"Enter The elements of list: \"))\n",
    "    in_num = eval(input(\"Enter the element to find occurence: \"))\n",
    "    count = 0\n",
    "    if in_num in in_list:\n",
    "        for i in in_list:\n",
    "            if i == in_num:\n",
    "                count=count+1\n",
    "    print(f\"There are {count} occurences of {in_num} in {in_list}\")\n",
    "checkOccurence()\n",
    "    \n",
    "              "
   ]
  }
 ],
 "metadata": {
  "kernelspec": {
   "display_name": "Python 3 (ipykernel)",
   "language": "python",
   "name": "python3"
  },
  "language_info": {
   "codemirror_mode": {
    "name": "ipython",
    "version": 3
   },
   "file_extension": ".py",
   "mimetype": "text/x-python",
   "name": "python",
   "nbconvert_exporter": "python",
   "pygments_lexer": "ipython3",
   "version": "3.9.12"
  }
 },
 "nbformat": 4,
 "nbformat_minor": 5
}
