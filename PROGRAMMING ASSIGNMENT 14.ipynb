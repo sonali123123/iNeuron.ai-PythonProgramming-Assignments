{
 "cells": [
  {
   "cell_type": "code",
   "execution_count": 1,
   "id": "e322b42d",
   "metadata": {},
   "outputs": [],
   "source": [
    "#Q1. Define a class with a generator which can iterate the numbers, which are divisible by 7 , between a given range 0 and n?"
   ]
  },
  {
   "cell_type": "code",
   "execution_count": 17,
   "id": "7a1e02ba",
   "metadata": {},
   "outputs": [
    {
     "name": "stdout",
     "output_type": "stream",
     "text": [
      "0 7 14 21 28 35 42 49 56 63 70 77 84 91 98 105 112 119 126 133 140 147 154 161 168 175 182 189 196 203 210 217 224 231 238 245 252 259 266 273 280 287 294 301 308 315 322 329 336 343 350 357 364 371 378 385 392 399 406 413 420 427 434 441 448 455 462 469 476 483 490 497 504 511 518 525 532 539 546 553 560 567 574 581 588 595 602 609 616 623 630 637 644 651 658 665 672 679 686 693 700 707 714 721 728 735 742 749 756 763 770 777 784 791 798 805 812 819 826 833 840 847 854 861 868 875 882 889 896 903 910 917 924 931 938 945 952 959 966 973 980 987 994 "
     ]
    }
   ],
   "source": [
    "class div_generator:\n",
    "    def __init__(self,in_num):\n",
    "        self.in_num = in_num\n",
    "    def get_numbers(self):\n",
    "        for i in range(0,self.in_num+1):\n",
    "            if i % 7 == 0:\n",
    "                yield i\n",
    "output = div_generator(1000)\n",
    "for i in output.get_numbers():\n",
    "     print(i,end=' ')"
   ]
  },
  {
   "cell_type": "code",
   "execution_count": 18,
   "id": "7fc7a0f9",
   "metadata": {},
   "outputs": [],
   "source": [
    "#Q2. Write a program to compute the frequency of the words from the input. The output should output after sorting the key \n",
    "#    alphanumerically"
   ]
  },
  {
   "cell_type": "code",
   "execution_count": 4,
   "id": "4ae34a44",
   "metadata": {},
   "outputs": [
    {
     "name": "stdout",
     "output_type": "stream",
     "text": [
      "Enter the stringNew to Python or choosing between Python 2 and Python 3? Read Python 2 or Python 3\n",
      "2:2 3:1 3?:1 New:1 Python:5 Read:1 and:1 between:1 choosing:1 or:2 to:1 "
     ]
    }
   ],
   "source": [
    "def checkFrequency():\n",
    "    try:\n",
    "        in_string=input(\"Enter the string\")\n",
    "        frequency = {}\n",
    "        for i in in_string.split():\n",
    "            if (frequency.get(i)==None):\n",
    "                 frequency[i]=1\n",
    "            else:\n",
    "                frequency[i]+=1\n",
    "        for i in sorted(frequency):\n",
    "            print(f'{i}:{frequency[i]}',end=' ')\n",
    "    except Exception as e:\n",
    "        print(e)\n",
    "checkFrequency()\n",
    "        \n",
    "    "
   ]
  },
  {
   "cell_type": "code",
   "execution_count": 5,
   "id": "2f367622",
   "metadata": {},
   "outputs": [],
   "source": [
    "#Q3. Define a class person and its two child classes: All classes have a method \"getGender\" which can print \"male\" for Male class\n",
    "#    and \"female\" for Female class"
   ]
  },
  {
   "cell_type": "code",
   "execution_count": 7,
   "id": "cb80d635",
   "metadata": {},
   "outputs": [
    {
     "name": "stdout",
     "output_type": "stream",
     "text": [
      "male\n",
      "female\n"
     ]
    }
   ],
   "source": [
    "class Person :\n",
    "    def getGender():\n",
    "        pass\n",
    "class Male :\n",
    "    def getGender():\n",
    "        print(\"male\")\n",
    "class Female :\n",
    "    def getGender():\n",
    "        print(\"female\")\n",
    "Male.getGender()\n",
    "Female.getGender()"
   ]
  },
  {
   "cell_type": "code",
   "execution_count": 8,
   "id": "90e24f45",
   "metadata": {},
   "outputs": [],
   "source": [
    "#Q4. Please write a program to generate all sentences where subject is in [\"I\",\"You\"] and verb is in [\"Play\",\"Love\"] and the \n",
    "#    object is in [\"Hockey\",\"Football\"]?"
   ]
  },
  {
   "cell_type": "code",
   "execution_count": 11,
   "id": "c1e79590",
   "metadata": {},
   "outputs": [
    {
     "name": "stdout",
     "output_type": "stream",
     "text": [
      "I Play Hockey\n",
      "I Play Football\n",
      "I Love Hockey\n",
      "I Love Football\n",
      "You Play Hockey\n",
      "You Play Football\n",
      "You Love Hockey\n",
      "You Love Football\n"
     ]
    }
   ],
   "source": [
    "def generateSentence():\n",
    "    subject = [\"I\",\"You\"]\n",
    "    verb = [\"Play\",\"Love\"]\n",
    "    object = ['Hockey','Football']\n",
    "    for s in subject:\n",
    "        for v in verb:\n",
    "            for o in object:\n",
    "                print(f'{s} {v} {o}')\n",
    "generateSentence()"
   ]
  },
  {
   "cell_type": "code",
   "execution_count": 12,
   "id": "dfebd368",
   "metadata": {},
   "outputs": [],
   "source": [
    "#Q5. Please write a program to compress and decompress the string \"hello world!hello world!hello world!\"?"
   ]
  },
  {
   "cell_type": "code",
   "execution_count": 34,
   "id": "b99bfcbe",
   "metadata": {},
   "outputs": [
    {
     "name": "stdout",
     "output_type": "stream",
     "text": [
      "hel2o world!hel2o world!hel2o world!hel2o world!\n",
      " hello world!hello world!hello world!hello world!\n"
     ]
    }
   ],
   "source": [
    "def compress(in_string):\n",
    "    output = in_string[0]\n",
    "    count = 1\n",
    "    for i in range(len(in_string)-1):\n",
    "        if in_string[i] == in_string[i+1]:\n",
    "            count +=1\n",
    "        else:\n",
    "            if count > 1:\n",
    "                output += str(count)\n",
    "            output += in_string[i+1]\n",
    "            count = 1\n",
    "    if count > 1:\n",
    "        output += str(count)\n",
    "    print(output)\n",
    "    \n",
    "def decompress(in_string):\n",
    "    output = ' '\n",
    "    for i in range(len(in_string)):\n",
    "        if in_string[i].isdigit():\n",
    "            output += output[-1]*(int(in_string[i])-1)\n",
    "        else:\n",
    "            output += in_string[i]\n",
    "    print(output)\n",
    "compress(\"hello world!hello world!hello world!hello world!\")\n",
    "decompress(\"hel2o world!hel2o world!hel2o world!hel2o world!\")\n",
    "\n",
    "\n"
   ]
  },
  {
   "cell_type": "code",
   "execution_count": 35,
   "id": "d1dfc817",
   "metadata": {},
   "outputs": [],
   "source": [
    "#Q6. Please write a binary search function which searches an item in a sorted list.The function should return index of element \n",
    "#    to be searched in the list?"
   ]
  },
  {
   "cell_type": "code",
   "execution_count": 37,
   "id": "d2fc3183",
   "metadata": {},
   "outputs": [
    {
     "name": "stdout",
     "output_type": "stream",
     "text": [
      "8\n",
      "None\n"
     ]
    }
   ],
   "source": [
    "sorted_list = [0,1,2,3,4,5,6,7,8,9,10]\n",
    "def binary_search(in_list,in_input):\n",
    "    low = 0\n",
    "    high = len(in_list)-1\n",
    "    while low <= high:\n",
    "        mid = high+low//2\n",
    "        if in_list[mid] < in_input:\n",
    "            low = mid+1\n",
    "        elif in_list[mid] > in_input:\n",
    "            high = mid - 1\n",
    "        else:\n",
    "            return mid\n",
    "    else:\n",
    "        pass\n",
    "print(binary_search(sorted_list,8))\n",
    "print(binary_search(sorted_list,100))"
   ]
  }
 ],
 "metadata": {
  "kernelspec": {
   "display_name": "Python 3 (ipykernel)",
   "language": "python",
   "name": "python3"
  },
  "language_info": {
   "codemirror_mode": {
    "name": "ipython",
    "version": 3
   },
   "file_extension": ".py",
   "mimetype": "text/x-python",
   "name": "python",
   "nbconvert_exporter": "python",
   "pygments_lexer": "ipython3",
   "version": "3.9.12"
  }
 },
 "nbformat": 4,
 "nbformat_minor": 5
}
