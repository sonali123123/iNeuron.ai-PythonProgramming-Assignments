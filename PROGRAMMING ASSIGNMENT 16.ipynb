{
 "cells": [
  {
   "cell_type": "code",
   "execution_count": 1,
   "id": "3635ea48",
   "metadata": {},
   "outputs": [],
   "source": [
    "#Q1. Write a function that slutters a word as if someone is struggling to read it. The first two letters are repeated twice with\n",
    "#    an ellipsis....and space after each ,and then the word is pronounced with a question mark?"
   ]
  },
  {
   "cell_type": "code",
   "execution_count": 10,
   "id": "7dd13cfa",
   "metadata": {},
   "outputs": [
    {
     "name": "stdout",
     "output_type": "stream",
     "text": [
      "Enter  the word: incredible\n",
      "in....in....incredible?\n"
     ]
    }
   ],
   "source": [
    "class word :\n",
    "    def slutter_word(self,in_string):\n",
    "        self.in_string = in_string\n",
    "    try :\n",
    "        in_string = input(\"Enter  the word: \")\n",
    "        out_string = in_string.replace(in_string[0:2],((in_string[0:2]+'....')*2) + in_string[0:2]) + '?'\n",
    "        print(out_string)\n",
    "    except Exception as e:\n",
    "        pass\n",
    "obj = word()\n",
    "obj.slutter_word('incredible' for i in range(3))\n",
    "    "
   ]
  },
  {
   "cell_type": "code",
   "execution_count": 11,
   "id": "02144edb",
   "metadata": {},
   "outputs": [],
   "source": [
    "#Q2. Creates a function that takes an angle in radians and returns the corresponding angle in degrees rounded to one decimal \n",
    "#    place?"
   ]
  },
  {
   "cell_type": "code",
   "execution_count": 5,
   "id": "165c2ccb",
   "metadata": {},
   "outputs": [
    {
     "name": "stdout",
     "output_type": "stream",
     "text": [
      "Enter the number in radian: 1\n",
      "57.29577951308232\n",
      "Enter the number in radian: 2\n",
      "114.59155902616465\n",
      "Enter the number in radian: 3\n",
      "171.88733853924697\n",
      "Enter the number in radian: 4\n",
      "229.1831180523293\n",
      "Enter the number in radian: 5\n",
      "286.4788975654116\n"
     ]
    }
   ],
   "source": [
    "import math\n",
    "def radTodeg():\n",
    "    in_num = int(input(\"Enter the number in radian: \"))\n",
    "    out_num = (180/math.pi)*in_num\n",
    "    print(out_num)\n",
    "for x in range(5):\n",
    "    radTodeg()\n",
    "        "
   ]
  },
  {
   "cell_type": "code",
   "execution_count": 4,
   "id": "b5784246",
   "metadata": {},
   "outputs": [],
   "source": [
    "#Q3. In this challenge,establish if a given integer is a Curzon number.If 1 plus 2 evaluated to num is exactly divisible by 1 \n",
    "#    plus 2 multiplied by num,then num is a curzon number . Given a non-negative integer num,implement a function that returns \n",
    "#    True if num is a Curzon number , or False otherwise?"
   ]
  },
  {
   "cell_type": "code",
   "execution_count": 1,
   "id": "9d10d0f4",
   "metadata": {},
   "outputs": [
    {
     "name": "stdout",
     "output_type": "stream",
     "text": [
      "Enter the number: 5\n",
      "True\n",
      "Enter the number: 10\n",
      "False\n",
      "Enter the number: 14\n",
      "True\n",
      "Enter the number: 12\n",
      "False\n",
      "Enter the number: 21\n",
      "True\n"
     ]
    }
   ],
   "source": [
    "def isCurzon():\n",
    "    in_num = int(input(\"Enter the number: \"))\n",
    "    if ((2**in_num)+1)%((2*in_num)+1) == 0:\n",
    "        print(True)\n",
    "    else:\n",
    "        print(False)\n",
    "for i in range(5):\n",
    "    isCurzon()"
   ]
  },
  {
   "cell_type": "code",
   "execution_count": 2,
   "id": "9a34b49c",
   "metadata": {},
   "outputs": [],
   "source": [
    "#Q4. Given the side length x find the area of a hexagon?"
   ]
  },
  {
   "cell_type": "code",
   "execution_count": 5,
   "id": "fc868b6b",
   "metadata": {},
   "outputs": [
    {
     "name": "stdout",
     "output_type": "stream",
     "text": [
      "Enter the side length x: 1\n",
      "2.598076211353316\n",
      "Enter the side length x: 2\n",
      "10.392304845413264\n",
      "Enter the side length x: 3\n",
      "23.382685902179844\n"
     ]
    }
   ],
   "source": [
    "import  math\n",
    "def areaHex():\n",
    "    in_num = int(input(\"Enter the side length x: \"))\n",
    "    out_num = ((3*math.sqrt(3)/2)*(in_num**2))\n",
    "    print(out_num)\n",
    "for i in range(3):\n",
    "    areaHex()"
   ]
  },
  {
   "cell_type": "code",
   "execution_count": 6,
   "id": "2fa32a95",
   "metadata": {},
   "outputs": [],
   "source": [
    "#Q5. Create a function that returns a base-2 (binary) representation of a base-10(decimal) string number.To convert is simple:\n",
    "#    ((2)means base-2 and (10) means base-10)\n",
    "#    010101001(2) = 1+8+32+128.\n",
    "#    Going from right to left,the value of the most right bit is 1,now from that every bit to the left willl be x2 the value,\n",
    "#    value of an 8 bit binary numbers are(256,128,64,32,16,8,4,2,1)"
   ]
  },
  {
   "cell_type": "code",
   "execution_count": 7,
   "id": "776ce761",
   "metadata": {},
   "outputs": [
    {
     "name": "stdout",
     "output_type": "stream",
     "text": [
      "enter the number: 1\n",
      "Binary number is:   1\n",
      "enter the number: 5\n",
      "Binary number is:   101\n",
      "enter the number: 10\n",
      "Binary number is:   1010\n"
     ]
    }
   ],
   "source": [
    "def binary():\n",
    "    in_num = int(input(\"enter the number: \"))\n",
    "    out_num = bin(in_num).replace('0b',' ')\n",
    "    print('Binary number is: ',out_num)\n",
    "for x in range(3):\n",
    "    binary()"
   ]
  }
 ],
 "metadata": {
  "kernelspec": {
   "display_name": "Python 3 (ipykernel)",
   "language": "python",
   "name": "python3"
  },
  "language_info": {
   "codemirror_mode": {
    "name": "ipython",
    "version": 3
   },
   "file_extension": ".py",
   "mimetype": "text/x-python",
   "name": "python",
   "nbconvert_exporter": "python",
   "pygments_lexer": "ipython3",
   "version": "3.9.12"
  }
 },
 "nbformat": 4,
 "nbformat_minor": 5
}
