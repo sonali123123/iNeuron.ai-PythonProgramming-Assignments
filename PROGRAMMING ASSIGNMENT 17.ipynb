{
 "cells": [
  {
   "cell_type": "code",
   "execution_count": 1,
   "id": "d85e9a44",
   "metadata": {},
   "outputs": [],
   "source": [
    "#Q1. Create a function that takes three arguments a,b,c and returns the sum of the numbers that are evenly divided by c from the\n",
    "#    range a,b inclusive?"
   ]
  },
  {
   "cell_type": "code",
   "execution_count": 4,
   "id": "2ba36bb8",
   "metadata": {},
   "outputs": [
    {
     "name": "stdout",
     "output_type": "stream",
     "text": [
      "30\n"
     ]
    }
   ],
   "source": [
    "class sumOfnum:\n",
    "    def evensum_div(self,a,b,c):\n",
    "        self.a = a\n",
    "        self.b = b\n",
    "        self.c = c\n",
    "        try:\n",
    "            div_list = []\n",
    "            sum = 0\n",
    "            for i in range(a,b+1):\n",
    "                if i%c == 0:\n",
    "                    div_list.append(i)\n",
    "                    sum = sum+i\n",
    "            print(sum)\n",
    "            \n",
    "        except Exception as e:\n",
    "            print(e)\n",
    "obj = sumOfnum()\n",
    "obj.evensum_div(1,10,2)\n",
    "        "
   ]
  },
  {
   "cell_type": "code",
   "execution_count": 7,
   "id": "25829e44",
   "metadata": {},
   "outputs": [],
   "source": [
    "#Q2. Create a function that returns True if a given inequality expression is correct and False otherwise?\n"
   ]
  },
  {
   "cell_type": "code",
   "execution_count": 1,
   "id": "4fa91d48",
   "metadata": {},
   "outputs": [
    {
     "name": "stdout",
     "output_type": "stream",
     "text": [
      "Enter the inequality expression: 3<7<11\n",
      "True\n",
      "Enter the inequality expression: 13>44>33>1\n",
      "False\n",
      "Enter the inequality expression: 1<2<6<9\n",
      "True\n"
     ]
    }
   ],
   "source": [
    "def check_inequality():\n",
    "    in_string = input(\"Enter the inequality expression: \")\n",
    "    out_bool = eval(in_string)\n",
    "    print(out_bool)\n",
    "for x in range(3):\n",
    "    check_inequality()"
   ]
  },
  {
   "cell_type": "code",
   "execution_count": 5,
   "id": "702057aa",
   "metadata": {},
   "outputs": [],
   "source": [
    "#Q3. Create a function that replaces all the vowels in a string with a specified character? "
   ]
  },
  {
   "cell_type": "code",
   "execution_count": 6,
   "id": "6a988192",
   "metadata": {},
   "outputs": [
    {
     "name": "stdout",
     "output_type": "stream",
     "text": [
      "Enter the string: the aardvark\n",
      "Enter the replacement character: #\n",
      "th# ##rdv#rk\n"
     ]
    }
   ],
   "source": [
    "def replaceVowels():\n",
    "    vowels = ['a','e','i','o','u','A','E','I','O','U']\n",
    "    in_string = input(\"Enter the string: \")\n",
    "    in_char = input(\"Enter the replacement character: \")\n",
    "    for i in in_string:\n",
    "        if i in vowels:\n",
    "            in_string = in_string.replace(i,in_char)\n",
    "    print(in_string)\n",
    "replaceVowels()"
   ]
  },
  {
   "cell_type": "code",
   "execution_count": 7,
   "id": "f88a6328",
   "metadata": {},
   "outputs": [],
   "source": [
    "#Q4. Write a function that calculates factorial of a number recursively?"
   ]
  },
  {
   "cell_type": "code",
   "execution_count": 8,
   "id": "eb3b7279",
   "metadata": {},
   "outputs": [],
   "source": [
    "def factorial(n):\n",
    "    if n==0:\n",
    "        return 1\n",
    "    else:\n",
    "        return n*(n-1)"
   ]
  },
  {
   "cell_type": "code",
   "execution_count": 9,
   "id": "9226fa11",
   "metadata": {},
   "outputs": [
    {
     "data": {
      "text/plain": [
       "20"
      ]
     },
     "execution_count": 9,
     "metadata": {},
     "output_type": "execute_result"
    }
   ],
   "source": [
    "factorial(5)"
   ]
  },
  {
   "cell_type": "code",
   "execution_count": 10,
   "id": "6ebdcb8d",
   "metadata": {},
   "outputs": [
    {
     "data": {
      "text/plain": [
       "12"
      ]
     },
     "execution_count": 10,
     "metadata": {},
     "output_type": "execute_result"
    }
   ],
   "source": [
    "factorial(4)"
   ]
  },
  {
   "cell_type": "code",
   "execution_count": 11,
   "id": "973067f4",
   "metadata": {},
   "outputs": [
    {
     "data": {
      "text/plain": [
       "1"
      ]
     },
     "execution_count": 11,
     "metadata": {},
     "output_type": "execute_result"
    }
   ],
   "source": [
    "factorial(0)"
   ]
  },
  {
   "cell_type": "code",
   "execution_count": 12,
   "id": "64e93fc8",
   "metadata": {},
   "outputs": [],
   "source": [
    "#Q5. Haming distance is the number of characters that differ between two strings?\n",
    "#    To illustrate:\n",
    "#    String1 : \"abcbba\"\n",
    "#    String2 : \"abcbda\"\n",
    "#    Hamming Distance : 1-\"b\"vs\"d\" is the only difference\n",
    "#    Creates a function that computes the hamming distance between two strings"
   ]
  },
  {
   "cell_type": "code",
   "execution_count": 14,
   "id": "e0083347",
   "metadata": {},
   "outputs": [
    {
     "name": "stdout",
     "output_type": "stream",
     "text": [
      "Enter the first string: abcde\n",
      "Enter the second  string: bcdef\n",
      "Hamming Difference b/w string1 annd string2  are:  5\n"
     ]
    }
   ],
   "source": [
    "def hammingDistance():\n",
    "    string1 = input(\"Enter the first string: \")\n",
    "    string2 = input(\"Enter the second  string: \")\n",
    "    if len(string1)==len(string2):\n",
    "        count = 0\n",
    "        for i in range(len(string1)):\n",
    "            if string1[i]!=string2[i]:\n",
    "                count=count+1\n",
    "        print(\"Hamming Difference b/w string1 annd string2  are: \",count)\n",
    "    else:\n",
    "        print(\"Both string is of same length\")\n",
    "hammingDistance()\n",
    "            "
   ]
  }
 ],
 "metadata": {
  "kernelspec": {
   "display_name": "Python 3 (ipykernel)",
   "language": "python",
   "name": "python3"
  },
  "language_info": {
   "codemirror_mode": {
    "name": "ipython",
    "version": 3
   },
   "file_extension": ".py",
   "mimetype": "text/x-python",
   "name": "python",
   "nbconvert_exporter": "python",
   "pygments_lexer": "ipython3",
   "version": "3.9.12"
  }
 },
 "nbformat": 4,
 "nbformat_minor": 5
}
