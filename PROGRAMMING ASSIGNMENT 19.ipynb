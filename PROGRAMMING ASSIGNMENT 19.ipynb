{
 "cells": [
  {
   "cell_type": "code",
   "execution_count": 5,
   "id": "f7c4aabe",
   "metadata": {},
   "outputs": [
    {
     "name": "stdout",
     "output_type": "stream",
     "text": [
      "SSttrriinngg\n",
      "HHeelllloo  WWoorrlldd!!\n",
      "11223344!!__\n"
     ]
    }
   ],
   "source": [
    "#Q1. Create a function that takes a string and returns a string in which each character is repeated once?\n",
    "#    Examples: double_char(\"String\")-\"SSttrriinngg\"\n",
    "#              double_char(\"Hello world!\")-\"HHeelllloo WWoorrlldd!!\"\n",
    "#              double_char(\"1234!_\")-\"11223344!!__\"\n",
    "\n",
    "def double_char(in_string):\n",
    "    out_string = ''\n",
    "    for i in in_string:\n",
    "        out_string =out_string + i*2\n",
    "    return out_string\n",
    "print(double_char(\"String\"))\n",
    "print(double_char(\"Hello World!\"))\n",
    "print(double_char(\"1234!_\"))\n",
    "    "
   ]
  },
  {
   "cell_type": "code",
   "execution_count": 8,
   "id": "a782e703",
   "metadata": {},
   "outputs": [
    {
     "name": "stdout",
     "output_type": "stream",
     "text": [
      "False\n",
      "True\n",
      "boolean expected\n",
      "boolean expected\n"
     ]
    }
   ],
   "source": [
    "#Q2. Create a function that reverse a boolean value and returns the string \"boolean expected\" if another variable type is given.\n",
    "#    Examples: reverse(True):False\n",
    "#    Examples: reverse(False):True\n",
    "#    Examples: reverse(0): \"boolean expected\"\n",
    "#    Examples: reverse(None):\"boolean expected\"\n",
    "\n",
    "def reverse(in_boolean):\n",
    "    if type(in_boolean)==bool:\n",
    "        return not in_boolean\n",
    "    else:\n",
    "        return \"boolean expected\"\n",
    "print(reverse(True))\n",
    "print(reverse(False))\n",
    "print(reverse(0))\n",
    "print(reverse(None))"
   ]
  },
  {
   "cell_type": "code",
   "execution_count": 12,
   "id": "0e86a105",
   "metadata": {},
   "outputs": [
    {
     "name": "stdout",
     "output_type": "stream",
     "text": [
      "0.001 m\n",
      "0.008 m\n",
      "1048.576 m\n"
     ]
    }
   ],
   "source": [
    "#Q3. Create a function that returns the thickness(in metres) of a piece of paper after folding in number of times.The paper \n",
    "#    starts off which a thickness of 0.5mm\n",
    "# Examples: numm_layers(1):'0.001m'\n",
    "# Paper folded once is 1mm (equal to 0.001m) num_layers:\"0.008m\"\n",
    "# Paper folded 4 times is 8mm(equal to 0.008m) num_layers:\"1048.576m\"\n",
    "# Paper folded 21 times is 1048576mm(equal to 1048.576m)\n",
    "\n",
    "def thickness(in_num):\n",
    "    out_num = 0.5\n",
    "    for i in range(in_num):\n",
    "        out_num*=2\n",
    "    print(out_num/1000,\"m\")\n",
    "thickness(1)\n",
    "thickness(4)\n",
    "thickness(21)"
   ]
  },
  {
   "cell_type": "code",
   "execution_count": 19,
   "id": "4e1a8afa",
   "metadata": {},
   "outputs": [
    {
     "name": "stdout",
     "output_type": "stream",
     "text": [
      "index_of_caps [1, 3, 5]\n",
      "index_of_caps [1, 3, 4]\n",
      "index_of_caps []\n",
      "index_of_caps [0, 1, 2, 3, 4, 5]\n",
      "index_of_caps [1]\n"
     ]
    }
   ],
   "source": [
    "#Q4. Create a function that takes a single string as argument and returns an ordered list containing the indices of all capital\n",
    "#    letters in the string.\n",
    "#    Examples: index_of_caps(\"eDaBiT\"):[1,3,5]\n",
    "#    index_of_caps(\"eQuINox\"):[1,3,4,6]\n",
    "#    index_of_caps(\"determine\"):[]\n",
    "#    index_of_caps(\"STRIKE\"):[0,1,2,3,4,5]\n",
    "#    index_of_caps(\"sUn\"):[1]\n",
    "\n",
    "def index_of_caps(in_string):\n",
    "    out_string = []\n",
    "    for i in in_string:\n",
    "        if i.isupper():\n",
    "            out_string.append(in_string.index(i))\n",
    "    print(\"index_of_caps\",out_string)\n",
    "index_of_caps(\"eDaBiT\")\n",
    "index_of_caps(\"eQuINox\")\n",
    "index_of_caps(\"determine\")\n",
    "index_of_caps(\"STRIKE\")\n",
    "index_of_caps(\"sUn\")"
   ]
  },
  {
   "cell_type": "code",
   "execution_count": 21,
   "id": "cd2520d0",
   "metadata": {},
   "outputs": [
    {
     "name": "stdout",
     "output_type": "stream",
     "text": [
      "[2, 4, 6, 8]\n",
      "[2, 4]\n",
      "[2]\n"
     ]
    }
   ],
   "source": [
    "#Q5. Using list comprehensions,create a  function that find all even numbers from 1 to the given number.\n",
    "#Examples: find_even_numbers(8):[2,4,6,8]\n",
    "# find_even_numbers(4):[2,4]\n",
    "# find_even_numbers(2):[2]\n",
    "\n",
    "def find_even_numbers(in_num):\n",
    "    out_num = []\n",
    "    for i in range(1,in_num+1):\n",
    "        if i%2==0:\n",
    "            out_num.append(i)\n",
    "    print(out_num)\n",
    "find_even_numbers(8)\n",
    "find_even_numbers(4)\n",
    "find_even_numbers(2)"
   ]
  }
 ],
 "metadata": {
  "kernelspec": {
   "display_name": "Python 3 (ipykernel)",
   "language": "python",
   "name": "python3"
  },
  "language_info": {
   "codemirror_mode": {
    "name": "ipython",
    "version": 3
   },
   "file_extension": ".py",
   "mimetype": "text/x-python",
   "name": "python",
   "nbconvert_exporter": "python",
   "pygments_lexer": "ipython3",
   "version": "3.9.12"
  }
 },
 "nbformat": 4,
 "nbformat_minor": 5
}
