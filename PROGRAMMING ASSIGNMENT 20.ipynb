{
 "cells": [
  {
   "cell_type": "code",
   "execution_count": 7,
   "id": "f6f0ddcf",
   "metadata": {},
   "outputs": [
    {
     "name": "stdout",
     "output_type": "stream",
     "text": [
      "output:  [1, 2, 3, 4]\n",
      "output:  [0, 1729]\n",
      "output:  []\n"
     ]
    }
   ],
   "source": [
    "#Q1.Create a function thhat takes a list of strings and integers, and filters out the list so that it returns a list of integers\n",
    "#   only?\n",
    "#  Examples: filter_list([1,2,3,\"a\",\"b\",4]:[1,2,3,4])\n",
    "#            filter_list([\"A\",0,\"Edabit\",1729,\"Python\",\"1729\"] : [0,1729])\n",
    "#             filter_list([\"Nothing\",\"here\"]) : []\n",
    "\n",
    "def filter_list(in_list):\n",
    "    out_list = []\n",
    "    for i in in_list:\n",
    "        if type(i)==int:\n",
    "            out_list.append(i)\n",
    "    print(\"output: \",out_list)\n",
    "filter_list([1,2,3,\"a\",\"b\",4])\n",
    "filter_list([\"A\",0,\"Edabit\",1729,\"Python\",\"1729\"])\n",
    "filter_list([\"Nothing\",\"here\"])"
   ]
  },
  {
   "cell_type": "code",
   "execution_count": 10,
   "id": "8a9acb0c",
   "metadata": {},
   "outputs": [
    {
     "name": "stdout",
     "output_type": "stream",
     "text": [
      "output:  [0, 1, 2, 3, 4]\n",
      "output:  [1, 3, 5, 7, 9]\n",
      "output:  [5, 5, 5, 5, 5]\n"
     ]
    }
   ],
   "source": [
    "#Q2. Given a list of numbers , create a function which returns the list but which each element's index in the list added to \n",
    "#    itself.this means you add 0 to the number at index 0 , and add 1 to the number at index 1,etc..\n",
    "# Examples : add_indexes([0,0,0,0,0]) : [0,1,2,3,4]\n",
    "#             add_indexes([1,2,3,4,5]) : [1,3,5,7,9]\n",
    "#             add_indexes([5,4,3,2,1]) : [5,5,5,5,5]\n",
    "\n",
    "\n",
    "def add_indexes(in_list):\n",
    "    out_list = []\n",
    "    for i in range(len(in_list)):\n",
    "        out_list.append(i+in_list[i])\n",
    "    print(\"output: \",out_list)\n",
    "add_indexes([0,0,0,0,0])\n",
    "add_indexes([1,2,3,4,5])\n",
    "add_indexes([5,4,3,2,1])"
   ]
  },
  {
   "cell_type": "code",
   "execution_count": 22,
   "id": "48ad8e9e",
   "metadata": {},
   "outputs": [
    {
     "name": "stdout",
     "output_type": "stream",
     "text": [
      "otput : 12.57\n",
      "otput : 565.49\n",
      "otput : 0.00\n"
     ]
    }
   ],
   "source": [
    "#Q3. Create a function that takes height and radius of a cone as argument and returns the volume of the cone rounded to the \n",
    "#    nearest hundredth . see the resources tab for formulas\n",
    "# Examples: cone_volume(3,2) : 12.57\n",
    "#           cone_volume(15,6): 565.49\n",
    "#            cone_volume(18,0): 0\n",
    "\n",
    "import math\n",
    "def cone_volume(h,r):\n",
    "    output = ((math.pi)*(r**2)*(h/3))\n",
    "    print(f'otput : {output:.2f}')\n",
    "cone_volume(3,2)\n",
    "cone_volume(15,6)\n",
    "cone_volume(18,0)"
   ]
  },
  {
   "cell_type": "code",
   "execution_count": 27,
   "id": "c9f17785",
   "metadata": {},
   "outputs": [
    {
     "name": "stdout",
     "output_type": "stream",
     "text": [
      "output:  1\n",
      "output:  21\n",
      "output:  23220\n"
     ]
    }
   ],
   "source": [
    "#Q4. This triangular Number sequence is generated from a pattern dots that form a triangle.\n",
    "#   the first 5 numbers of the sequences, or dots, are: 1,3,6,10,15 . This means that the first triangle has just one dot,the \n",
    "#     second one has three dots , the third one has 6 dots and so on. Write a function that gives the number of dots with its\n",
    "#     corresponding triangle number of the sequences.\n",
    "#     Examples. triangle(1): 1\n",
    "#               triangle(6): 21\n",
    "#               triangle(215): 23220\n",
    "\n",
    "def triangle(in_num):\n",
    "    print(\"output: \",int(((in_num)*(in_num+1))/2))\n",
    "triangle(1)\n",
    "triangle(6)\n",
    "triangle(215)"
   ]
  },
  {
   "cell_type": "code",
   "execution_count": 32,
   "id": "ff14c823",
   "metadata": {},
   "outputs": [
    {
     "name": "stdout",
     "output_type": "stream",
     "text": [
      "[1, 2, 3, 4, 6, 7, 8, 9, 10] :5\n",
      "[7, 2, 3, 6, 5, 9, 1, 4, 8] :10\n",
      "[10, 5, 1, 2, 4, 6, 8, 3, 9] :7\n"
     ]
    }
   ],
   "source": [
    "#Q5. Create a function that takes a list of numbers between 1 and 10 (excluding one number) and returns the missing numbers. \n",
    "#   Examples : missing_num([1,2,3,4,6,7,8,9,10]) : 5\n",
    "#            missing_num([7,2,3,6,5,9,1,4,8]) : 10\n",
    "#           missing_num([10,5,1,2,4,6,8,3,9]) : 7\n",
    "\n",
    "def missing_num(in_list):\n",
    "    for i in range(1,11):\n",
    "        if i not in in_list:\n",
    "            print(f\"{in_list} :{i}\")\n",
    "\n",
    "missing_num([1,2,3,4,6,7,8,9,10])\n",
    "missing_num([7,2,3,6,5,9,1,4,8])\n",
    "missing_num([10,5,1,2,4,6,8,3,9])\n",
    "                    "
   ]
  }
 ],
 "metadata": {
  "kernelspec": {
   "display_name": "Python 3 (ipykernel)",
   "language": "python",
   "name": "python3"
  },
  "language_info": {
   "codemirror_mode": {
    "name": "ipython",
    "version": 3
   },
   "file_extension": ".py",
   "mimetype": "text/x-python",
   "name": "python",
   "nbconvert_exporter": "python",
   "pygments_lexer": "ipython3",
   "version": "3.9.12"
  }
 },
 "nbformat": 4,
 "nbformat_minor": 5
}
