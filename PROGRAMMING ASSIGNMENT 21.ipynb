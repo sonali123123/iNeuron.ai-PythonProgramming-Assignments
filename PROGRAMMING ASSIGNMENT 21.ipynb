{
 "cells": [
  {
   "cell_type": "code",
   "execution_count": 7,
   "id": "501de300",
   "metadata": {},
   "outputs": [
    {
     "name": "stdout",
     "output_type": "stream",
     "text": [
      "Output : [6, 7, 8, 9, 1]\n",
      "Output : [6, 3, 23, 17, 10]\n",
      "No list has been selected\n"
     ]
    }
   ],
   "source": [
    "#Q1. Create a function that takes a list and a number as arguments.Add the number to the end of the list,then remove the first \n",
    "#    element of the list . The function should then return the updated list.\n",
    "# Examples :\n",
    "#    next_in_line([5,6,7,8,9],1) : [6,7,8,9,1]\n",
    "#    next_in_line([7,6,3,23,17],10) : [6,3,23,17,10]\n",
    "#   next_in_line([],6) : \"No list has been selected\"\n",
    "\n",
    "def next_in_line(in_list,num):\n",
    "    if len(in_list)>1:\n",
    "        in_list.append(num)\n",
    "        in_list.remove(in_list[0])\n",
    "        print(f'Output : {in_list}')\n",
    "    else:\n",
    "        print(\"No list has been selected\")\n",
    "next_in_line([5,6,7,8,9],1)\n",
    "next_in_line([7,6,3,23,17],10)\n",
    "next_in_line([],6)"
   ]
  },
  {
   "cell_type": "code",
   "execution_count": 11,
   "id": "f71c687e",
   "metadata": {},
   "outputs": [
    {
     "name": "stdout",
     "output_type": "stream",
     "text": [
      "Output : 65700\n",
      "Output : 62600\n"
     ]
    }
   ],
   "source": [
    "#Q2. Create a function that takes a list of dictionaries and return the sum of people's budgets.\n",
    "# Examples:\n",
    "#   get_budgets([{\"name\":\"John\",\"age\":21,\"budget\":23000},{\"name\":\"Steve\",\"age\":32,\"budget\":40000},{\"name\":\"Martin\",\"age\":16,\n",
    "#                                                                                                  \"budget\":2700}]) : 65700\n",
    "#    get_budgets([{\"name\":\"John\",\"age\":21,\"budget\":29000},{\"name\":\"Steve\",\"age\":32,\"budget\":32000},{\"name\":\"Martin\",\"age\":16,\n",
    "#                                                                                            \"budget\":1600}]) : 62600\n",
    "\n",
    "\n",
    "def get_budgets(in_dict):\n",
    "    sum = 0\n",
    "    for i in in_dict:\n",
    "        sum+=i[\"budget\"]\n",
    "    print(f\"Output : {sum}\")\n",
    "get_budgets([{\"name\":\"John\",\"age\":21,\"budget\":23000},{\"name\":\"Steve\",\"age\":32,\"budget\":40000},{\"name\":\"Martin\",\"age\":16,\n",
    "                                                                                                 \"budget\":2700}]) \n",
    "get_budgets([{\"name\":\"John\",\"age\":21,\"budget\":29000},{\"name\":\"Steve\",\"age\":32,\"budget\":32000},{\"name\":\"Martin\",\"age\":16,\n",
    "                                                                                          \"budget\":1600}]) \n",
    "\n",
    "\n"
   ]
  },
  {
   "cell_type": "code",
   "execution_count": 12,
   "id": "a5797290",
   "metadata": {},
   "outputs": [
    {
     "name": "stdout",
     "output_type": "stream",
     "text": [
      "Output : ehllo\n",
      "Output : abdeit\n",
      "Output : acehkr\n",
      "Output : eegk\n",
      "Output : aacijprstv\n"
     ]
    }
   ],
   "source": [
    "#Q3. Create a function that takes a string and return a string with its letters in alphabetical order\n",
    "# Examples:\n",
    "#    alphabet_soup(\"hello\") : \"ehllo\"\n",
    "#    alphabet_soup(\"edabit\") : \"abdeit\"\n",
    "#    alphabet_soup(\"hacker\") : \"acehkr\"\n",
    "#    alphabet_soup(\"geek\") : \"eegk\"\n",
    "#    alphabet_soup(\"javascript\") : \"aacijprstv\"\n",
    "\n",
    "def alphabet_soup(in_string):\n",
    "    out_string = ''.join(sorted(in_string))\n",
    "    print(f\"Output : {out_string}\")\n",
    "alphabet_soup(\"hello\")\n",
    "alphabet_soup(\"edabit\")\n",
    "alphabet_soup(\"hacker\") \n",
    "alphabet_soup(\"geek\") \n",
    "alphabet_soup(\"javascript\") \n",
    "\n"
   ]
  },
  {
   "cell_type": "code",
   "execution_count": 19,
   "id": "837811ac",
   "metadata": {},
   "outputs": [
    {
     "name": "stdout",
     "output_type": "stream",
     "text": [
      "output : 105.00\n",
      "output : 15399.26\n",
      "output : 2007316.26\n"
     ]
    }
   ],
   "source": [
    "#Q4. What will be the value of your investement at the end of 10 year period?\n",
    "#    Create a function that accepts the principal p,the terms in years t,the interest rate r,and the number of compounding\n",
    "#    periods per year n.The function returns the value at the end of the term rounded to the nearest cent.\n",
    "#    Examples:\n",
    "#        compound_interest(100,1,0.05,1) : 105.0\n",
    "#        compound_interest(3500,15,0.1,4) : 15399.26\n",
    "#        compound_interest(100000,20,0.15,365) : 2007316.26\n",
    "\n",
    "def compound_interest(p,t,r,n):\n",
    "    ci = p*(1+(r/n))**(n*t)\n",
    "    print(f\"output : {ci:.2f}\")\n",
    "compound_interest(100,1,0.05,1) \n",
    "compound_interest(3500,15,0.1,4) \n",
    "compound_interest(100000,20,0.15,365) \n"
   ]
  },
  {
   "cell_type": "code",
   "execution_count": 14,
   "id": "96458cde",
   "metadata": {},
   "outputs": [
    {
     "name": "stdout",
     "output_type": "stream",
     "text": [
      "output : [9, 2, 16]\n",
      "output : [81, 123]\n",
      "output : [1]\n"
     ]
    }
   ],
   "source": [
    "#Q5  Write a function that takes a list of elements and returns only the integers.\n",
    "# Examples:\n",
    "#return_only_integer([9,2,\"space\",\"car\",\"lion\",16]) : [9,2,16]\n",
    "#    return_only_integer([\"hello\",81,\"basketball\",123,\"fox\"]) : [81,123]\n",
    "#    return_only_integer([\"Strings\",True,3.3,1]) : [1]\n",
    "\n",
    "\n",
    "def return_only_integer(in_list):\n",
    "    out_list = []\n",
    "    for i in in_list:\n",
    "        if type(i)==int:\n",
    "            out_list.append(i)\n",
    "    print(f\"output : {out_list}\")\n",
    "return_only_integer([9,2,\"space\",\"car\",\"lion\",16]) \n",
    "return_only_integer([\"hello\",81,\"basketball\",123,\"fox\"]) \n",
    "return_only_integer([\"Strings\",True,3.3,1]) \n",
    "\n",
    "    "
   ]
  }
 ],
 "metadata": {
  "kernelspec": {
   "display_name": "Python 3 (ipykernel)",
   "language": "python",
   "name": "python3"
  },
  "language_info": {
   "codemirror_mode": {
    "name": "ipython",
    "version": 3
   },
   "file_extension": ".py",
   "mimetype": "text/x-python",
   "name": "python",
   "nbconvert_exporter": "python",
   "pygments_lexer": "ipython3",
   "version": "3.9.12"
  }
 },
 "nbformat": 4,
 "nbformat_minor": 5
}
