{
 "cells": [
  {
   "cell_type": "code",
   "execution_count": 1,
   "id": "675ec3e1",
   "metadata": {},
   "outputs": [],
   "source": [
    "#Q1. Create a function that takes a number as an argument and returns True or False depending on whether the number is\n",
    "#    depending on whether the number is symmetrical or not. A number is symmetrical when it is the same as its reverse.\n",
    "#   Examples:\n",
    "#        is_symmetrical(7227) : True\n",
    "#        is_symmetrical(12567) : False\n",
    "#        is_symmetrical(44444444) : True\n",
    "#        is_symmetrical(9939) : False\n",
    "#        is_symmetrical(1112111) : True"
   ]
  },
  {
   "cell_type": "code",
   "execution_count": 6,
   "id": "1ce28182",
   "metadata": {},
   "outputs": [
    {
     "name": "stdout",
     "output_type": "stream",
     "text": [
      "7227 : True\n",
      "12567 : False\n",
      "44444444 : True\n",
      "9939 : False\n",
      "1112111 : True\n"
     ]
    }
   ],
   "source": [
    "def is_symmetrical(in_num):\n",
    "    if str(in_num) == str(in_num)[::-1]:\n",
    "        print(f\"{in_num} : {True}\")\n",
    "    else:\n",
    "        print(f\"{in_num} : {False}\")\n",
    "is_symmetrical(7227)\n",
    "is_symmetrical(12567) \n",
    "is_symmetrical(44444444) \n",
    "is_symmetrical(9939) \n",
    "is_symmetrical(1112111)\n",
    "    "
   ]
  },
  {
   "cell_type": "code",
   "execution_count": 7,
   "id": "76509a3b",
   "metadata": {},
   "outputs": [],
   "source": [
    "#Q2. Given a string of numbers separated by a comma and a space,return the product of the numbers.\n",
    "#     Examples:\n",
    "#        multiply_nums(\"2,3\") : 6\n",
    "#        multiply_nums(\"1,2,3,4\") : 24\n",
    "#        multiply_nums(\"54,75,453,0\") : 0\n",
    "#        multiply_nums(\"10,-2\") : -20"
   ]
  },
  {
   "cell_type": "code",
   "execution_count": 22,
   "id": "e9de71fe",
   "metadata": {},
   "outputs": [
    {
     "name": "stdout",
     "output_type": "stream",
     "text": [
      "2,3 : 6\n",
      "1,2,3,4 : 24\n",
      "54,75,453,0 : 0\n",
      "10,-2 : -20\n"
     ]
    }
   ],
   "source": [
    "def multiply_nums(in_string):\n",
    "    out_string = in_string.replace(' ',' ').split(',')\n",
    "    out_num = 1\n",
    "    for i in out_string:\n",
    "        out_num *= int(i)\n",
    "    print(f\"{in_string} : {out_num}\")\n",
    "  \n",
    "multiply_nums(\"2,3\")\n",
    "multiply_nums(\"1,2,3,4\")\n",
    "multiply_nums(\"54,75,453,0\") \n",
    "multiply_nums(\"10,-2\") "
   ]
  },
  {
   "cell_type": "code",
   "execution_count": 23,
   "id": "fb5e8a45",
   "metadata": {},
   "outputs": [],
   "source": [
    "#Q3. Create a function that squares every digit of a number.\n",
    "#    Examples:\n",
    "#        square_digits(9119) : 811181\n",
    "#        square_digits(2483) : 416649\n",
    "#        square_digits(3212) : 9414\n",
    "#    Notes:\n",
    "#        The function receives an integer and must return an integer"
   ]
  },
  {
   "cell_type": "code",
   "execution_count": 25,
   "id": "1cd213da",
   "metadata": {},
   "outputs": [
    {
     "name": "stdout",
     "output_type": "stream",
     "text": [
      "9119 : 811181\n",
      "2483 : 416649\n",
      "3212 : 9414\n"
     ]
    }
   ],
   "source": [
    "def square_digits(in_num):\n",
    "    in_list = [str(int(i)**2)  for i in str(in_num)]\n",
    "    out_list = ''.join(in_list)\n",
    "    print(f\"{in_num} : {out_list}\")\n",
    "square_digits(9119) \n",
    "square_digits(2483) \n",
    "square_digits(3212) "
   ]
  },
  {
   "cell_type": "code",
   "execution_count": 33,
   "id": "16533bd1",
   "metadata": {},
   "outputs": [],
   "source": [
    "#Q4.Create a function that sorts a list and remove all duplicate items from it.\n",
    "#    Examples:\n",
    "#        setify([1,3,3,5,5]) : [1,3,5]\n",
    "#        setify([4,4,4,4]) : [4]\n",
    "#        setify([5,7,8,9,10,15]) : [5,7,8,9,10,15]\n",
    "#        setify([3,3,3,2,1]) : [1,2,3]"
   ]
  },
  {
   "cell_type": "code",
   "execution_count": 34,
   "id": "8c100392",
   "metadata": {},
   "outputs": [
    {
     "name": "stdout",
     "output_type": "stream",
     "text": [
      "[1, 3, 3, 5, 5]: [1, 3, 5]\n",
      "[4, 4, 4, 4]: [4]\n",
      "[5, 7, 8, 9, 10, 15]: [5, 7, 8, 9, 10, 15]\n",
      "[3, 3, 3, 2, 1]: [1, 2, 3]\n"
     ]
    }
   ],
   "source": [
    "def setify(in_list):\n",
    "    out_list = sorted(set(in_list))\n",
    "    print(f\"{in_list}: {out_list}\")\n",
    "setify([1,3,3,5,5]) \n",
    "setify([4,4,4,4]) \n",
    "setify([5,7,8,9,10,15])\n",
    "setify([3,3,3,2,1])"
   ]
  },
  {
   "cell_type": "code",
   "execution_count": 35,
   "id": "7e41abcf",
   "metadata": {},
   "outputs": [],
   "source": [
    "#Q5. Create a function that returns a mean of all digits.\n",
    "#    Examples:\n",
    "#        mean(42) : 3\n",
    "#        mean(12345) : 3\n",
    "#        mean(666) : 6\n",
    "#    Notes:\n",
    "#        1. The mean of all digits is the sum of digits/how many digits there are(e.g.mean of digit in 512 is (5+1+2)/3(number \n",
    "#            of digits)=8/3=2)"
   ]
  },
  {
   "cell_type": "code",
   "execution_count": 40,
   "id": "b4b69f73",
   "metadata": {},
   "outputs": [
    {
     "name": "stdout",
     "output_type": "stream",
     "text": [
      "42: 3.0\n",
      "12345: 3.0\n",
      "666: 6.0\n"
     ]
    }
   ],
   "source": [
    "def mean(in_num):\n",
    "    in_list = [int(i) for i in str(in_num)]\n",
    "    out_num = sum(in_list)/len(str(in_num))\n",
    "    print(f\"{in_num}: {out_num}\")\n",
    "mean(42)\n",
    "mean(12345)\n",
    "mean(666)"
   ]
  }
 ],
 "metadata": {
  "kernelspec": {
   "display_name": "Python 3 (ipykernel)",
   "language": "python",
   "name": "python3"
  },
  "language_info": {
   "codemirror_mode": {
    "name": "ipython",
    "version": 3
   },
   "file_extension": ".py",
   "mimetype": "text/x-python",
   "name": "python",
   "nbconvert_exporter": "python",
   "pygments_lexer": "ipython3",
   "version": "3.9.12"
  }
 },
 "nbformat": 4,
 "nbformat_minor": 5
}
