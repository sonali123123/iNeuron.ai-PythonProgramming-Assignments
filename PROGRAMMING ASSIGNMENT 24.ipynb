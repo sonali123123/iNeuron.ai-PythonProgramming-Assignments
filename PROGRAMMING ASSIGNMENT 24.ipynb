{
 "cells": [
  {
   "cell_type": "code",
   "execution_count": 1,
   "id": "13b85cca",
   "metadata": {},
   "outputs": [],
   "source": [
    "#Q1. Create a function that takes an integer and returns a list from 1 to the given numbers,where:\n",
    "#    1. If the number can be divided evenly by 4,amplify it by 10(i.e.return 10 times the number).\n",
    "#    2. If the number cannot be divided evenly by 4,simply return the number.\n",
    "#    Examples:\n",
    "#        amplify(4) : [1,2,3,40]\n",
    "#        amplify(3) : [1,2,3]\n",
    "#        amplify(25) : [1,2,3,40,5,6,7,80,9,10,11,120,13,14,15,160,17,18,19,200,21,22,23,240,25]\n",
    "#    Notes:\n",
    "#        1. The given integer will always be equal to greater than 1.\n",
    "#        2. Include the number(see example)\n",
    "#        3. To perform this problem with its intended purpose,try doing it with list"
   ]
  },
  {
   "cell_type": "code",
   "execution_count": 2,
   "id": "37de97ac",
   "metadata": {},
   "outputs": [
    {
     "name": "stdout",
     "output_type": "stream",
     "text": [
      "4 : [1, 2, 3, 40]\n",
      "3 : [1, 2, 3]\n",
      "25 : [1, 2, 3, 40, 5, 6, 7, 80, 9, 10, 11, 120, 13, 14, 15, 160, 17, 18, 19, 200, 21, 22, 23, 240, 25]\n"
     ]
    }
   ],
   "source": [
    "def amplify(in_num):\n",
    "    out_list = []\n",
    "    for i in range(1,in_num+1):\n",
    "        if i%4==0:\n",
    "            out_list.append(i*10)\n",
    "        else:\n",
    "            out_list.append(i)\n",
    "    print(f\"{in_num} : {out_list}\")\n",
    "amplify(4) \n",
    "amplify(3)\n",
    "amplify(25) "
   ]
  },
  {
   "cell_type": "code",
   "execution_count": 3,
   "id": "b15c92e0",
   "metadata": {},
   "outputs": [],
   "source": [
    "#Q2. Create a function that takes a list of numbers and returns the number that's unique.\n",
    "#    Examples:\n",
    "#        unique([3,3,3,7,3,3]) : 7\n",
    "#        unique([0,0,0.77,0,0]) : 0.77\n",
    "#        unique([0,1,1,1,1,1,1,1]) : 0\n",
    "#    Notes:\n",
    "#        Test cases will always have exactly one unique number while all others are same."
   ]
  },
  {
   "cell_type": "code",
   "execution_count": 5,
   "id": "0c83750a",
   "metadata": {},
   "outputs": [
    {
     "name": "stdout",
     "output_type": "stream",
     "text": [
      "[3, 3, 3, 7, 3, 3] :7\n",
      "[0, 0, 0.77, 0, 0] :0.77\n",
      "[0, 1, 1, 1, 1, 1, 1, 1] :0\n"
     ]
    }
   ],
   "source": [
    "def unique(in_list):\n",
    "    out_num = ''\n",
    "    for i in set(in_list):\n",
    "        if in_list.count(i) == 1:\n",
    "            out_num = i\n",
    "    print(f\"{in_list} :{out_num}\")\n",
    "unique([3,3,3,7,3,3])\n",
    "unique([0,0,0.77,0,0]) \n",
    "unique([0,1,1,1,1,1,1,1])\n",
    "\n"
   ]
  },
  {
   "cell_type": "code",
   "execution_count": 6,
   "id": "351b94f4",
   "metadata": {},
   "outputs": [],
   "source": [
    "#Q3. Your task is to create a circle constructor that creates a circle with radius provided by an argument .The circle\n",
    "#    constructed must have two getters getArea() (PIr^2) and getperimeter() (2PI*r) which gives both respective areas and\n",
    "#    perimeter (circumference).For help with this class , I have provided you with a rectangle constructor which you can use\n",
    "#    as a base example ?\n",
    "#    Examples:\n",
    "#        circy = Circle(11)\n",
    "#        circy.getArea()\n",
    "#         # Should return 380.132711084365\n",
    "#        circy = Circle(4.44)\n",
    "#        circy.getPerimeter()\n",
    "        #Should return 27.897342736877365\n",
    "#    Notes:\n",
    "#        Round results upto the nearest integer."
   ]
  },
  {
   "cell_type": "code",
   "execution_count": 8,
   "id": "86d21317",
   "metadata": {},
   "outputs": [
    {
     "name": "stdout",
     "output_type": "stream",
     "text": [
      "Area : 380\n",
      "Perimeter : 28\n"
     ]
    }
   ],
   "source": [
    "import math\n",
    "class Circle:\n",
    "    def __init__(self,radius):\n",
    "        try:\n",
    "            self.radius = radius\n",
    "        except Exception as e:\n",
    "            print(e)\n",
    "    def getArea(self):\n",
    "        try:\n",
    "            print(f\"Area : {round(math.pi*self.radius**2)}\")\n",
    "        except Exception as e:\n",
    "            print(e)\n",
    "    def getPerimeter(self):\n",
    "        try:\n",
    "            print(f\"Perimeter : {round(2*(math.pi)*self.radius)}\")\n",
    "        except Exception as e:\n",
    "            print(e)\n",
    "circy = Circle(11)\n",
    "circy.getArea()\n",
    "circy = Circle(4.44)\n",
    "circy.getPerimeter()\n",
    "                            \n",
    "  \n",
    "   \n",
    "            \n",
    "        "
   ]
  },
  {
   "cell_type": "code",
   "execution_count": 9,
   "id": "d8cdc070",
   "metadata": {},
   "outputs": [],
   "source": [
    "#Q4. Create a function that takes a list of strings and return a list,sorted from shortest to longest.\n",
    "#    Examples:\n",
    "#        sort_by_length([\"Google\",\"Apple\",\"Microsoft\"]) : [\"Apple\",\"Google\",\"Microsoft\"] \n",
    "#        sort_by_length([\"Lenardo\",\"Michelangelo\",\"Raphael\",\"Donatello\"]) : [\"Raphael\",\"Lenardo\",\"Donatello\",\"Michelangelo\"]\n",
    "#        sort_by_length([\"Turting\",\"Einstein\",\"Jung\"]) : [\"Jung\",\"Turting\",\"Einstein\"]\n",
    "#    note:\n",
    "#        All test cases contain list with strings of different lengths , so you won't have to deal with multiple strings of the\n",
    "#        same length."
   ]
  },
  {
   "cell_type": "code",
   "execution_count": 11,
   "id": "72d80e9a",
   "metadata": {},
   "outputs": [
    {
     "name": "stdout",
     "output_type": "stream",
     "text": [
      "['Apple', 'Google', 'Microsoft']\n",
      "['Lenardo', 'Raphael', 'Donatello', 'Michelangelo']\n",
      "['Jung', 'Turting', 'Einstein']\n"
     ]
    }
   ],
   "source": [
    "def sort_by_length(in_list):\n",
    "    print(sorted(in_list,key=len))\n",
    "sort_by_length([\"Google\",\"Apple\",\"Microsoft\"])  \n",
    "sort_by_length([\"Lenardo\",\"Michelangelo\",\"Raphael\",\"Donatello\"]) \n",
    "sort_by_length([\"Turting\",\"Einstein\",\"Jung\"])"
   ]
  },
  {
   "cell_type": "code",
   "execution_count": 12,
   "id": "0aec4507",
   "metadata": {},
   "outputs": [],
   "source": [
    "#Q5. Create a function that validates whether three given integers form a Pythagorean triplet. The sum of the squares of the two\n",
    "#    smallest integers must equal the square of the largest numbers to be validated.\n",
    "#    Examples:\n",
    "#        is_triplet(3,4,5) : True\n",
    "        \n",
    "          # 3^2 + 4^2 = 25\n",
    "          # 5^2 = 25\n",
    "        \n",
    "#        is_triplet(13,5,12) : True\n",
    "            # 5^2 + 12^2 = 169\n",
    "            # 13^2 = 169\n",
    "#        is_triplet(1,2,3) : False\n",
    "            # 1^2 + 2^2 = 5\n",
    "            # 3^2 = 9\n",
    "#    Note:\n",
    "#        Numbers may not be given in sorted order\n",
    "            "
   ]
  },
  {
   "cell_type": "code",
   "execution_count": 15,
   "id": "905263b8",
   "metadata": {},
   "outputs": [
    {
     "name": "stdout",
     "output_type": "stream",
     "text": [
      "(3, 4, 5) : True\n",
      "(13, 5, 12) : True\n",
      "(1, 2, 3) : False\n"
     ]
    }
   ],
   "source": [
    "def is_triplet(a,b,c):\n",
    "    if ((a**2+b**2 == c**2) or (a**2+c**2 == b**2) or (b**2+c**2 == a**2)):\n",
    "        print(f\"{a,b,c} : {True}\")\n",
    "    else:\n",
    "        print(f\"{a,b,c} : {False}\")\n",
    "is_triplet(3,4,5)\n",
    "is_triplet(13,5,12)\n",
    "is_triplet(1,2,3)\n",
    "    "
   ]
  }
 ],
 "metadata": {
  "kernelspec": {
   "display_name": "Python 3 (ipykernel)",
   "language": "python",
   "name": "python3"
  },
  "language_info": {
   "codemirror_mode": {
    "name": "ipython",
    "version": 3
   },
   "file_extension": ".py",
   "mimetype": "text/x-python",
   "name": "python",
   "nbconvert_exporter": "python",
   "pygments_lexer": "ipython3",
   "version": "3.9.12"
  }
 },
 "nbformat": 4,
 "nbformat_minor": 5
}
