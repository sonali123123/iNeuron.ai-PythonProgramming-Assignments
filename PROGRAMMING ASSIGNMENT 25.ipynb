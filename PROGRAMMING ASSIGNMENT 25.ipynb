{
 "cells": [
  {
   "cell_type": "code",
   "execution_count": 1,
   "id": "e26b0572",
   "metadata": {},
   "outputs": [],
   "source": [
    "#Q1. Create a function that takes three integers as arguments(a,b,c) and returns the amount of integers which are of equal value\n",
    "#    Examples:\n",
    "#        equal(3,4,3) : 2\n",
    "#        equal(1,1,1) : 3\n",
    "#        equal(3,4,1) : 0\n",
    "#    Note : Your function must return 0,2,3 "
   ]
  },
  {
   "cell_type": "code",
   "execution_count": 2,
   "id": "1c3e10b4",
   "metadata": {},
   "outputs": [
    {
     "name": "stdout",
     "output_type": "stream",
     "text": [
      "(3, 4, 3) : 2\n",
      "(1, 1, 1) : 3\n",
      "(3, 4, 1) : 0\n"
     ]
    }
   ],
   "source": [
    "def equal(a,b,c):\n",
    "    if a==b==c :\n",
    "        print(f\"{a,b,c} : {3}\")\n",
    "    elif a==c!=b:\n",
    "        print(f\"{a,b,c} : {2}\")\n",
    "    else:\n",
    "        print(f\"{a,b,c} : {0}\")\n",
    "equal(3,4,3)\n",
    "equal(1,1,1)\n",
    "equal(3,4,1)\n",
    "        "
   ]
  },
  {
   "cell_type": "code",
   "execution_count": 3,
   "id": "3d988f32",
   "metadata": {},
   "outputs": [],
   "source": [
    "#Q2. Write a function that converts a dictionary into a list of keys-values tuples.\n",
    "#    Examples:\n",
    "#        dict_to_list({\"D\":1,\"B\":2,\"C\":3}) : [(\"B\",2),(\"C\",3),(\"D\",1)]\n",
    "#        dict_to_list({\"likes\":2,\"dislikes\":3,\"followers\":10}) : [(\"dislikes\",3),(\"followers\",10),(\"likes\",2)]\n",
    "#    Notes:\n",
    "#        Return the elements in the list in alphabetical order."
   ]
  },
  {
   "cell_type": "code",
   "execution_count": 6,
   "id": "6841a929",
   "metadata": {},
   "outputs": [
    {
     "name": "stdout",
     "output_type": "stream",
     "text": [
      "{'D': 1, 'B': 2, 'C': 3} : [('B', 2), ('C', 3), ('D', 1)]\n",
      "{'likes': 2, 'dislikes': 3, 'followers': 10} : [('dislikes', 3), ('followers', 10), ('likes', 2)]\n"
     ]
    }
   ],
   "source": [
    "def dict_to_list(in_dict):\n",
    "    out_list = []\n",
    "    for keys,values in in_dict.items():\n",
    "        out_list.append((keys,values))\n",
    "    print(f\"{in_dict} : {sorted(out_list)}\")\n",
    "dict_to_list({\"D\":1,\"B\":2,\"C\":3})\n",
    "dict_to_list({\"likes\":2,\"dislikes\":3,\"followers\":10})\n"
   ]
  },
  {
   "cell_type": "code",
   "execution_count": 7,
   "id": "4ebf6eca",
   "metadata": {},
   "outputs": [],
   "source": [
    "#Q3. Write a function that creates a dictionary with each(key,value) pair being the(lowercase,uppercase) version of a letter ,\n",
    "#    respectively.\n",
    "#    Examples:\n",
    "#        mapping([\"p\",\"s\"]) : {\"p\":\"P\",\"s\":\"S\"}\n",
    "#        mapping([\"a\",\"b\",\"c\"]) : {\"a\":\"A\",\"b\":\"B\",\"c\":\"C\"}\n",
    "#        mapping([\"a\",\"v\",\"y\",\"z\"]) : {\"a\":\"A\",\"v\":\"V\",\"y\":\"Y\",\"z\":\"Z\"}\n",
    "#    note:\n",
    "#        All of the letter in input list will always be lowercase."
   ]
  },
  {
   "cell_type": "code",
   "execution_count": 11,
   "id": "210c0694",
   "metadata": {},
   "outputs": [
    {
     "name": "stdout",
     "output_type": "stream",
     "text": [
      "['p', 's'] : {'p': 'P', 's': 'S'}\n",
      "['a', 'b', 'c'] : {'a': 'A', 'b': 'B', 'c': 'C'}\n",
      "['a', 'v', 'y', 'z'] : {'a': 'A', 'v': 'V', 'y': 'Y', 'z': 'Z'}\n"
     ]
    }
   ],
   "source": [
    "def mapping(in_list):\n",
    "    out_dict = {}\n",
    "    for i in in_list:\n",
    "        out_dict[i] = i.upper()\n",
    "    print(f\"{in_list} : {out_dict}\")\n",
    "mapping([\"p\",\"s\"]) \n",
    "mapping([\"a\",\"b\",\"c\"])\n",
    "mapping([\"a\",\"v\",\"y\",\"z\"]) \n"
   ]
  },
  {
   "cell_type": "code",
   "execution_count": 1,
   "id": "0a1c222d",
   "metadata": {},
   "outputs": [],
   "source": [
    "#Q4. Write a function that replaces all vowels in a string with a specified vowel.\n",
    "#    Examples:\n",
    "#        vow_replace(\"apples and bananas\",\"u\") : \"upplus und bununus\"\n",
    "#        vow_replace(\"cheese casserole\",\"o\") : \"chooso cossorolo\"\n",
    "#        vow_replace(\"stuffed jalapeno poppers\",\"e\") : \"steffed jelepene peppers\"\n",
    "#    Notes:\n",
    "#        All words will lowercase.Y is not considered a vowel."
   ]
  },
  {
   "cell_type": "code",
   "execution_count": 2,
   "id": "1303f35d",
   "metadata": {},
   "outputs": [
    {
     "name": "stdout",
     "output_type": "stream",
     "text": [
      "('apples and bananas', 'u') : upplus und bununus\n",
      "('cheese casserole', 'o') : chooso cossorolo\n",
      "('stuffed jalapeno poppers', 'e') : steffed jelepene peppers\n"
     ]
    }
   ],
   "source": [
    "def vow_replace(in_string,vow):\n",
    "    out_string = ''\n",
    "    vowels = [\"a\",\"e\",\"i\",\"o\",\"u\"]\n",
    "    for i in in_string:\n",
    "        if i in vowels:\n",
    "            out_string+=vow\n",
    "        else:\n",
    "            out_string+=i\n",
    "    print(f\"{in_string,vow} : {out_string}\")\n",
    "vow_replace(\"apples and bananas\",\"u\")\n",
    "vow_replace(\"cheese casserole\",\"o\") \n",
    "vow_replace(\"stuffed jalapeno poppers\",\"e\") \n"
   ]
  },
  {
   "cell_type": "code",
   "execution_count": 3,
   "id": "63c7705d",
   "metadata": {},
   "outputs": [],
   "source": [
    "#Q5. Create a function  that takes a string as input and capitalizes a letter if its ASCII code is even and return its lowercase\n",
    "#    version if its  ASCII is odd.\n",
    "#    Examples:\n",
    "#        ascii_capitalize(\"to be or not to be!\") : \"To Be oR Not To Be!\"\n",
    "#        ascii_capitalize(\"THE LITTLE MERMAID\") : \"THe LiTTLe meRmaiD\"\n",
    "#        ascii_capitalize(\"Oh what a beautiful morning.\") : \"oH wHaT a BeauTiFul moRNiNg.\""
   ]
  },
  {
   "cell_type": "code",
   "execution_count": 7,
   "id": "86f1d9f0",
   "metadata": {},
   "outputs": [
    {
     "name": "stdout",
     "output_type": "stream",
     "text": [
      "to be or not to be! : To Be oR NoT To Be!\n",
      "THE LITTLE MERMAID : THe LiTTLe meRmaiD\n",
      "Oh what a beautiful morning. : oH wHaT a BeauTiFuL moRNiNg.\n"
     ]
    }
   ],
   "source": [
    "def ascii_capitalize(in_string):\n",
    "    out_string = \"\"\n",
    "    for i in in_string:\n",
    "        if ord(i)%2==0:\n",
    "            out_string+=i.upper()\n",
    "        else:\n",
    "            out_string+=i.lower()\n",
    "    print(f\"{in_string} : {out_string}\")\n",
    "ascii_capitalize(\"to be or not to be!\") \n",
    "ascii_capitalize(\"THE LITTLE MERMAID\")\n",
    "ascii_capitalize(\"Oh what a beautiful morning.\") "
   ]
  }
 ],
 "metadata": {
  "kernelspec": {
   "display_name": "Python 3 (ipykernel)",
   "language": "python",
   "name": "python3"
  },
  "language_info": {
   "codemirror_mode": {
    "name": "ipython",
    "version": 3
   },
   "file_extension": ".py",
   "mimetype": "text/x-python",
   "name": "python",
   "nbconvert_exporter": "python",
   "pygments_lexer": "ipython3",
   "version": "3.9.12"
  }
 },
 "nbformat": 4,
 "nbformat_minor": 5
}
