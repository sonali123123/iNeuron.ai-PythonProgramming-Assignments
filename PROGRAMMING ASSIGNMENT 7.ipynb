{
 "cells": [
  {
   "cell_type": "code",
   "execution_count": 1,
   "id": "f60a67c3",
   "metadata": {},
   "outputs": [],
   "source": [
    "#Q1. Write a python program to find sum of array?"
   ]
  },
  {
   "cell_type": "code",
   "execution_count": 10,
   "id": "9bf84626",
   "metadata": {},
   "outputs": [
    {
     "name": "stdout",
     "output_type": "stream",
     "text": [
      "Sum of the array is 27\n"
     ]
    }
   ],
   "source": [
    "arr=[]\n",
    "arr=[3,7,9,8]\n",
    "\n",
    "ans=sum(arr)\n",
    "\n",
    "print('Sum of the array is',ans)"
   ]
  },
  {
   "cell_type": "code",
   "execution_count": null,
   "id": "0745a61d",
   "metadata": {},
   "outputs": [],
   "source": [
    "#Q2. Write a python program to find largest element in an array?"
   ]
  },
  {
   "cell_type": "code",
   "execution_count": 11,
   "id": "844f0320",
   "metadata": {},
   "outputs": [
    {
     "name": "stdout",
     "output_type": "stream",
     "text": [
      "Largest in given array is 9808\n"
     ]
    }
   ],
   "source": [
    "def largest(arr,n):\n",
    "    max=arr[0]\n",
    "    for i in range(1,n):\n",
    "        if arr[i]>max:\n",
    "            max=arr[i]\n",
    "    return max\n",
    "arr=[10,324,45,90,9808]\n",
    "n=len(arr)\n",
    "Ans=largest(arr,n)\n",
    "print('Largest in given array is',Ans)"
   ]
  },
  {
   "cell_type": "code",
   "execution_count": 3,
   "id": "2a680e5c",
   "metadata": {},
   "outputs": [],
   "source": [
    "#Q3. Write a python program for array rotation?"
   ]
  },
  {
   "cell_type": "code",
   "execution_count": 14,
   "id": "fd716052",
   "metadata": {},
   "outputs": [
    {
     "name": "stdout",
     "output_type": "stream",
     "text": [
      "Array after left rotation is:  [3, 4, 5, 6, 7, 1, 2]\n"
     ]
    }
   ],
   "source": [
    "def rotateArray(arr,n,d):\n",
    "    temp=[]\n",
    "    i=0\n",
    "    while(i<d):\n",
    "        temp.append(arr[i])\n",
    "        i=i+1\n",
    "    i=0\n",
    "    while(d<n):\n",
    "        arr[i]=arr[d]\n",
    "        i=i+1\n",
    "        d=d+1\n",
    "    arr[:]=arr[: i] + temp\n",
    "    return arr\n",
    "\n",
    "arr=[1,2,3,4,5,6,7]\n",
    "print('Array after left rotation is: ',end=' ')\n",
    "print(rotateArray(arr,len(arr),2))"
   ]
  },
  {
   "cell_type": "code",
   "execution_count": 4,
   "id": "f5ce8279",
   "metadata": {},
   "outputs": [],
   "source": [
    "#Q4. Write a python program to split the array and add the first part to the add?"
   ]
  },
  {
   "cell_type": "code",
   "execution_count": 21,
   "id": "d71cf333",
   "metadata": {},
   "outputs": [
    {
     "name": "stdout",
     "output_type": "stream",
     "text": [
      "5 6 52 36 12 10 "
     ]
    }
   ],
   "source": [
    "def splitArr(arr,n,k):\n",
    "    for i in range(0,k):\n",
    "        x=arr[0]\n",
    "        for j in range(0,n-1):\n",
    "            arr[j]=arr[j+1]\n",
    "            \n",
    "        arr[n-1]=x\n",
    "arr=[12,10,5,6,52,36]\n",
    "n=len(arr)\n",
    "position=2\n",
    "splitArr(arr,n,position)\n",
    "for i in range(0,n):\n",
    "    print(arr[i],end=' ')"
   ]
  },
  {
   "cell_type": "code",
   "execution_count": 16,
   "id": "04281a3f",
   "metadata": {},
   "outputs": [],
   "source": [
    "#Q5. Write  a python program to check if given array is Monotonic?"
   ]
  },
  {
   "cell_type": "code",
   "execution_count": 19,
   "id": "38cfd572",
   "metadata": {},
   "outputs": [
    {
     "name": "stdout",
     "output_type": "stream",
     "text": [
      "Enter the values  of list6,5,4,4\n",
      "False\n"
     ]
    }
   ],
   "source": [
    "def isMonotonic(A):\n",
    "    return (all(A[i]<=A[i+1]for i in range(len(A)-1)) or all(A[i]>=A[i+1]for i in range(len(A)-1)))\n",
    "A=input(\"Enter the values  of list\")\n",
    "\n",
    "print(isMonotonic(A))"
   ]
  },
  {
   "cell_type": "code",
   "execution_count": null,
   "id": "29033a9b",
   "metadata": {},
   "outputs": [],
   "source": []
  }
 ],
 "metadata": {
  "kernelspec": {
   "display_name": "Python 3 (ipykernel)",
   "language": "python",
   "name": "python3"
  },
  "language_info": {
   "codemirror_mode": {
    "name": "ipython",
    "version": 3
   },
   "file_extension": ".py",
   "mimetype": "text/x-python",
   "name": "python",
   "nbconvert_exporter": "python",
   "pygments_lexer": "ipython3",
   "version": "3.9.12"
  }
 },
 "nbformat": 4,
 "nbformat_minor": 5
}
