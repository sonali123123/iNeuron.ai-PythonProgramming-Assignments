{
 "cells": [
  {
   "cell_type": "code",
   "execution_count": 1,
   "id": "963a5445",
   "metadata": {},
   "outputs": [],
   "source": [
    "#Q1. Write a python program to add two matrices?"
   ]
  },
  {
   "cell_type": "code",
   "execution_count": 5,
   "id": "6923376f",
   "metadata": {},
   "outputs": [
    {
     "name": "stdout",
     "output_type": "stream",
     "text": [
      "[17, 15, 4]\n",
      "[10, 12, 9]\n",
      "[11, 13, 18]\n"
     ]
    }
   ],
   "source": [
    "A = [[12,7,3],[4,5,6],[7,8,9]]\n",
    "B=[[5,8,1],[6,7,3],[4,5,9]]\n",
    "result = [[0,0,0],[0,0,0],[0,0,0]]\n",
    "\n",
    "for x in range(len(A)):\n",
    "    for y in range(len(A[0])):\n",
    "        result[x][y] = A[x][y] + B[x][y]\n",
    "for q in result:\n",
    "    print(q)"
   ]
  },
  {
   "cell_type": "code",
   "execution_count": 2,
   "id": "59d52b66",
   "metadata": {},
   "outputs": [],
   "source": [
    "#Q3. Write a python program to multiply two matrices?"
   ]
  },
  {
   "cell_type": "code",
   "execution_count": 7,
   "id": "fab5155a",
   "metadata": {},
   "outputs": [
    {
     "name": "stdout",
     "output_type": "stream",
     "text": [
      "[114, 160, 60, 27]\n",
      "[74, 97, 73, 14]\n",
      "[119, 157, 112, 23]\n"
     ]
    }
   ],
   "source": [
    "x=[[12,7,3],[4,5,6],[7,8,9]]\n",
    "y=[[5,8,1,2],[6,7,3,0],[4,5,9,1]]\n",
    "result=[[0,0,0,0],[0,0,0,0],[0,0,0,0]]\n",
    "\n",
    "for i in range(len(x)):\n",
    "    for j in range(len(y[0])):\n",
    "        for k in range(len(y)):\n",
    "            result[i][j] += x[i][k]*y[k][j]\n",
    "for r in result:\n",
    "    print(r)"
   ]
  },
  {
   "cell_type": "code",
   "execution_count": 3,
   "id": "f85561f9",
   "metadata": {},
   "outputs": [],
   "source": [
    "#Q4. Write a python program to transpose a matrix?"
   ]
  },
  {
   "cell_type": "code",
   "execution_count": 8,
   "id": "6b43af7d",
   "metadata": {},
   "outputs": [
    {
     "name": "stdout",
     "output_type": "stream",
     "text": [
      "[12, 4, 3]\n",
      "[7, 5, 8]\n"
     ]
    }
   ],
   "source": [
    "x=[[12,7],[4,5],[3,8]]\n",
    "result=[[0,0,0],[0,0,0]]\n",
    "for i in range(len(x)):\n",
    "    for j in range(len(x[0])):\n",
    "        result [j][i] = x[i][j]\n",
    "for r in result:\n",
    "    print(r)"
   ]
  },
  {
   "cell_type": "code",
   "execution_count": 4,
   "id": "18e76254",
   "metadata": {},
   "outputs": [],
   "source": [
    "#Q5. Write a python program to sort words in alphabetic order?"
   ]
  },
  {
   "cell_type": "code",
   "execution_count": 10,
   "id": "173629f6",
   "metadata": {},
   "outputs": [
    {
     "name": "stdout",
     "output_type": "stream",
     "text": [
      "Enter a string: Hello I am Sonali Thakur\n",
      "The sorted words are: \n",
      "am\n",
      "hello\n",
      "i\n",
      "sonali\n",
      "thakur\n"
     ]
    }
   ],
   "source": [
    "my_str = input(\"Enter a string: \")\n",
    "\n",
    "words = [word.lower() for word in my_str.split()]\n",
    "\n",
    "words.sort()\n",
    "\n",
    "print(\"The sorted words are: \")\n",
    "for word in words:\n",
    "    print(word)"
   ]
  },
  {
   "cell_type": "code",
   "execution_count": null,
   "id": "fdb6159f",
   "metadata": {},
   "outputs": [],
   "source": [
    "#Q6. Write a python program to remove punctuation from a string?"
   ]
  },
  {
   "cell_type": "code",
   "execution_count": 1,
   "id": "449719bd",
   "metadata": {},
   "outputs": [
    {
     "name": "stdout",
     "output_type": "stream",
     "text": [
      "Enter a string: Hello!!!, he said ---and went.\n",
      "Hello he said and went\n"
     ]
    }
   ],
   "source": [
    "punctuations = '''!()-[]{};:'\"\\,<>./?@#%$^&*_~'''\n",
    "my_str=input(\"Enter a string: \")\n",
    "no_punct = \"\"\n",
    "for char in my_str:\n",
    "    if char not in punctuations:\n",
    "        no_punct = no_punct + char\n",
    "        \n",
    "print(no_punct)"
   ]
  }
 ],
 "metadata": {
  "kernelspec": {
   "display_name": "Python 3 (ipykernel)",
   "language": "python",
   "name": "python3"
  },
  "language_info": {
   "codemirror_mode": {
    "name": "ipython",
    "version": 3
   },
   "file_extension": ".py",
   "mimetype": "text/x-python",
   "name": "python",
   "nbconvert_exporter": "python",
   "pygments_lexer": "ipython3",
   "version": "3.9.12"
  }
 },
 "nbformat": 4,
 "nbformat_minor": 5
}
