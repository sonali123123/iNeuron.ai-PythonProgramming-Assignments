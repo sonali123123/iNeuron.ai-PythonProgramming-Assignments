{
 "cells": [
  {
   "cell_type": "code",
   "execution_count": 1,
   "id": "36bb3933",
   "metadata": {},
   "outputs": [],
   "source": [
    "#Q1. Write a python program to check if the given number is a Disarium Number?"
   ]
  },
  {
   "cell_type": "code",
   "execution_count": 4,
   "id": "98e9c2c7",
   "metadata": {},
   "outputs": [
    {
     "name": "stdout",
     "output_type": "stream",
     "text": [
      "Enter the number: 175\n",
      "175 is a disarium number\n"
     ]
    }
   ],
   "source": [
    "# A number is disarium if the sum of each digit raised to the power of their respective positions is equal to original number\n",
    "\n",
    "num = int(input(\"Enter the number: \"))\n",
    "disarium = 0\n",
    "temp=num\n",
    "\n",
    "def find_position(data):\n",
    "    str_data = str(data)\n",
    "    return len(str_data)\n",
    "while temp!=0:\n",
    "    disarium+= (temp%10)**find_position(temp)\n",
    "    temp = temp//10\n",
    "if disarium == num:\n",
    "    print(num,\"is a disarium number\")\n",
    "else:\n",
    "    print(num,\"is not a disarium number\")"
   ]
  },
  {
   "cell_type": "code",
   "execution_count": 5,
   "id": "8aed199d",
   "metadata": {},
   "outputs": [],
   "source": [
    "#Q2. Write a python program to print all disarium numbers between 1 to 100?"
   ]
  },
  {
   "cell_type": "code",
   "execution_count": 4,
   "id": "b1e4891e",
   "metadata": {},
   "outputs": [
    {
     "name": "stdout",
     "output_type": "stream",
     "text": [
      "Disarium numbers between 1 and 100 are: \n",
      "1\n",
      "2\n",
      "3\n",
      "4\n",
      "5\n",
      "6\n",
      "7\n",
      "8\n",
      "9\n"
     ]
    }
   ],
   "source": [
    "def length(n):\n",
    "    length=0;\n",
    "    while(n!=0):\n",
    "        length=length+1\n",
    "        n=n//10\n",
    "    return length;\n",
    "def sumdigit(num):\n",
    "    temp=sum=0;\n",
    "    len=length(num);\n",
    "    while(num>0):\n",
    "        temp=num;\n",
    "        sum=sum+(temp**len);\n",
    "        num=num//10;\n",
    "        len = len-1;\n",
    "    return sum;\n",
    "result=0;\n",
    "\n",
    "print(\"Disarium numbers between 1 and 100 are: \")\n",
    "for i in range(1,101):\n",
    "    result=sumdigit(i);\n",
    "    \n",
    "    if result==i:\n",
    "        print(i)"
   ]
  },
  {
   "cell_type": "code",
   "execution_count": null,
   "id": "93d47a3c",
   "metadata": {},
   "outputs": [],
   "source": [
    "#Q3. Write a python program to check if a givennumber is Happy Number?"
   ]
  },
  {
   "cell_type": "code",
   "execution_count": 7,
   "id": "5c18a3bf",
   "metadata": {},
   "outputs": [
    {
     "name": "stdout",
     "output_type": "stream",
     "text": [
      "Enter number to check Happy Number: 82\n",
      "82 is a happy number\n"
     ]
    }
   ],
   "source": [
    "# A happy number is a numbber which eventually reaches 1 whenn replaced by sum of squares of each digits.\n",
    "\n",
    "def isHappyNumber(num):\n",
    "    temp=sum=0;\n",
    "    while(num>0):\n",
    "        temp=num%10;\n",
    "        sum=sum+(temp*temp);\n",
    "        num=num//10;\n",
    "    return sum;\n",
    "num=int(input(\"Enter number to check Happy Number: \"))\n",
    "result=num;\n",
    "while(result!=1 and result!=4):\n",
    "    result=isHappyNumber(result);\n",
    "if(result==1):\n",
    "    print(str(num)+\" is a happy number\");\n",
    "else:\n",
    "    print(str(num)+\" is not a happy number\")"
   ]
  },
  {
   "cell_type": "code",
   "execution_count": 3,
   "id": "81acdc46",
   "metadata": {},
   "outputs": [],
   "source": [
    "#Q4. Write a python program to print all happy numbers between 1 and 100?"
   ]
  },
  {
   "cell_type": "code",
   "execution_count": 9,
   "id": "e30c826d",
   "metadata": {},
   "outputs": [
    {
     "name": "stdout",
     "output_type": "stream",
     "text": [
      "List of happy numbers between 1  and 100 are:\n",
      "1\n",
      " \n",
      "7\n",
      " \n",
      "10\n",
      " \n",
      "13\n",
      " \n",
      "19\n",
      " \n",
      "23\n",
      " \n",
      "28\n",
      " \n",
      "31\n",
      " \n",
      "32\n",
      " \n",
      "44\n",
      " \n",
      "49\n",
      " \n",
      "68\n",
      " \n",
      "70\n",
      " \n",
      "79\n",
      " \n",
      "82\n",
      " \n",
      "86\n",
      " \n",
      "91\n",
      " \n",
      "94\n",
      " \n",
      "97\n",
      " \n",
      "100\n",
      " \n"
     ]
    }
   ],
   "source": [
    "def isHappyNumber(num):\n",
    "    temp=sum=0;\n",
    "    while(num>0):\n",
    "        temp=num%10;\n",
    "        sum=sum+(temp*temp);\n",
    "        num=num//10;\n",
    "    return sum;\n",
    "print(\"List of happy numbers between 1  and 100 are:\")\n",
    "for i in range(1,101):\n",
    "    result=i\n",
    "    while(result!=1 and result!=4):\n",
    "        result=isHappyNumber(result)\n",
    "    if result==1:\n",
    "        print(i)\n",
    "        print(\" \")"
   ]
  },
  {
   "cell_type": "code",
   "execution_count": 4,
   "id": "afe3ba9e",
   "metadata": {},
   "outputs": [],
   "source": [
    "#Q5. Write a python program to determine whether the given number is Harshad number?"
   ]
  },
  {
   "cell_type": "code",
   "execution_count": 16,
   "id": "886a3192",
   "metadata": {},
   "outputs": [
    {
     "name": "stdout",
     "output_type": "stream",
     "text": [
      "Enter the number to check it is Harshad Number or not: 156\n",
      "156 is a Harshad Number\n"
     ]
    }
   ],
   "source": [
    "# If a number is divisiible by sum of its digits,then it will be known as Harshad Number\n",
    "\n",
    "num=int(input(\"Enter the number to check it is Harshad Number or not: \"))\n",
    "temp=sum=0;\n",
    "n=num;\n",
    "while(num>0):\n",
    "    temp=num%10;\n",
    "    sum=sum+temp;\n",
    "    num=num//10;\n",
    "if(n%sum==0):\n",
    "    print(str(n)+\" is a Harshad Number\");\n",
    "else:\n",
    "    print(str(n)+\" is not a Harshad Number\")\n"
   ]
  },
  {
   "cell_type": "code",
   "execution_count": 17,
   "id": "237d31ff",
   "metadata": {},
   "outputs": [],
   "source": [
    "#Q6. Write a python program to print all pronic numbers between 1 and 100?"
   ]
  },
  {
   "cell_type": "code",
   "execution_count": 18,
   "id": "47947e67",
   "metadata": {},
   "outputs": [],
   "source": [
    "#The number which is a product of two consecutive numbers are called pronic numbers.Mathematically, N*(N+1)\n",
    "\n"
   ]
  },
  {
   "cell_type": "code",
   "execution_count": 9,
   "id": "8371b94d",
   "metadata": {},
   "outputs": [
    {
     "name": "stdout",
     "output_type": "stream",
     "text": [
      "2\n",
      "6\n",
      "12\n",
      "20\n",
      "30\n",
      "42\n",
      "56\n",
      "72\n",
      "90\n"
     ]
    }
   ],
   "source": [
    "for i in range(1,101):\n",
    "    for j in range(1,101):\n",
    "        if(i*(i+1)==j):\n",
    "            print(j)\n",
    "        else:\n",
    "            pass"
   ]
  },
  {
   "cell_type": "code",
   "execution_count": null,
   "id": "6f130eb6",
   "metadata": {},
   "outputs": [],
   "source": []
  }
 ],
 "metadata": {
  "kernelspec": {
   "display_name": "Python 3 (ipykernel)",
   "language": "python",
   "name": "python3"
  },
  "language_info": {
   "codemirror_mode": {
    "name": "ipython",
    "version": 3
   },
   "file_extension": ".py",
   "mimetype": "text/x-python",
   "name": "python",
   "nbconvert_exporter": "python",
   "pygments_lexer": "ipython3",
   "version": "3.9.12"
  }
 },
 "nbformat": 4,
 "nbformat_minor": 5
}
