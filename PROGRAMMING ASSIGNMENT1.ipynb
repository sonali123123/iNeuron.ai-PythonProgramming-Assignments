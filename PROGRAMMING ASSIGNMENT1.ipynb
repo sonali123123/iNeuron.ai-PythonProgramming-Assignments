{
 "cells": [
  {
   "cell_type": "code",
   "execution_count": 15,
   "id": "77dc3d09",
   "metadata": {},
   "outputs": [],
   "source": [
    "#Q1. Write a python program to print 'Hello Python'"
   ]
  },
  {
   "cell_type": "code",
   "execution_count": 16,
   "id": "f18df9fb",
   "metadata": {},
   "outputs": [
    {
     "name": "stdout",
     "output_type": "stream",
     "text": [
      "Hello python\n"
     ]
    }
   ],
   "source": [
    "print(\"Hello python\")"
   ]
  },
  {
   "cell_type": "code",
   "execution_count": 17,
   "id": "a3e31e93",
   "metadata": {},
   "outputs": [],
   "source": [
    "#Q2. Write a python program to do arithemetical operations addition and division"
   ]
  },
  {
   "cell_type": "code",
   "execution_count": 23,
   "id": "97732bc8",
   "metadata": {},
   "outputs": [
    {
     "name": "stdout",
     "output_type": "stream",
     "text": [
      "Enter num1: 6\n",
      "Enter num2: 2\n",
      "('+', '%')/\n",
      "3.0\n"
     ]
    }
   ],
   "source": [
    "a=int(input(\"Enter num1: \"))\n",
    "b=int(input(\"Enter num2: \"))\n",
    "operation=input((\"+\",\"%\"))\n",
    "if operation==\"+\":\n",
    "    print(a+b)\n",
    "elif operation==\"/\":\n",
    "    print(a/b)\n",
    "else:\n",
    "    pass"
   ]
  },
  {
   "cell_type": "code",
   "execution_count": 24,
   "id": "efb326d9",
   "metadata": {},
   "outputs": [],
   "source": [
    "#Q3. Write a python program to find the area of a triangle"
   ]
  },
  {
   "cell_type": "code",
   "execution_count": 25,
   "id": "7516ce5b",
   "metadata": {},
   "outputs": [
    {
     "name": "stdout",
     "output_type": "stream",
     "text": [
      "Enter length of base of triangle: 5\n",
      "Enter the height of the triangle: 7\n",
      "17.5\n"
     ]
    }
   ],
   "source": [
    "base=int(input(\"Enter length of base of triangle: \"))\n",
    "height=int(input(\"Enter the height of the triangle: \"))\n",
    "area=0.5*base*height\n",
    "print(area)"
   ]
  },
  {
   "cell_type": "code",
   "execution_count": 26,
   "id": "39f8cc66",
   "metadata": {},
   "outputs": [],
   "source": [
    "#Q4. Write a python programm to swap two variables"
   ]
  },
  {
   "cell_type": "code",
   "execution_count": 28,
   "id": "ab2dfa5b",
   "metadata": {},
   "outputs": [
    {
     "name": "stdout",
     "output_type": "stream",
     "text": [
      "x =  5\n",
      "y =  10\n"
     ]
    }
   ],
   "source": [
    "x=5\n",
    "y=10\n",
    "x,y=y,x\n",
    "print(\"x = \",x)\n",
    "print(\"y = \",y)"
   ]
  },
  {
   "cell_type": "code",
   "execution_count": 29,
   "id": "69746785",
   "metadata": {},
   "outputs": [],
   "source": [
    "#Q5. Write a python program to generate a random number"
   ]
  },
  {
   "cell_type": "code",
   "execution_count": 32,
   "id": "e5288c4f",
   "metadata": {},
   "outputs": [
    {
     "name": "stdout",
     "output_type": "stream",
     "text": [
      "3\n"
     ]
    }
   ],
   "source": [
    "# program to generate a random number between o and 9\n",
    "# importing the random module\n",
    "\n",
    "import random\n",
    "print(random.randint(0,9))"
   ]
  }
 ],
 "metadata": {
  "kernelspec": {
   "display_name": "Python 3 (ipykernel)",
   "language": "python",
   "name": "python3"
  },
  "language_info": {
   "codemirror_mode": {
    "name": "ipython",
    "version": 3
   },
   "file_extension": ".py",
   "mimetype": "text/x-python",
   "name": "python",
   "nbconvert_exporter": "python",
   "pygments_lexer": "ipython3",
   "version": "3.9.12"
  }
 },
 "nbformat": 4,
 "nbformat_minor": 5
}
