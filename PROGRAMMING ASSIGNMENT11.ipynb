{
 "cells": [
  {
   "cell_type": "code",
   "execution_count": 1,
   "id": "ee5088d4",
   "metadata": {},
   "outputs": [],
   "source": [
    "#Q1. Write a python program to  find words which are greater than given length k?"
   ]
  },
  {
   "cell_type": "code",
   "execution_count": 4,
   "id": "e946a0f0",
   "metadata": {},
   "outputs": [
    {
     "name": "stdout",
     "output_type": "stream",
     "text": [
      "Enter the string: INEURON IS THE BEST PLATFORM FOR DATA SCIENCE COURSE\n",
      "Enter the length of the string: 5\n",
      "INEURON,PLATFORM,SCIENCE,COURSE\n"
     ]
    }
   ],
   "source": [
    "def find_word():\n",
    "    int_str = input(\"Enter the string: \")\n",
    "    length = int(input(\"Enter the length of the string: \"))\n",
    "    out_str = []\n",
    "    for i in int_str.split(\" \"):\n",
    "        if len(i) > length:\n",
    "            out_str.append(i)\n",
    "    print(','.join(out_str))\n",
    "find_word()\n",
    "    \n",
    "        "
   ]
  },
  {
   "cell_type": "code",
   "execution_count": 5,
   "id": "2684c729",
   "metadata": {},
   "outputs": [],
   "source": [
    "#Q2. Write a python program for removing i-th character from a string?"
   ]
  },
  {
   "cell_type": "code",
   "execution_count": 7,
   "id": "67afc055",
   "metadata": {},
   "outputs": [
    {
     "name": "stdout",
     "output_type": "stream",
     "text": [
      "Enter the string: Sonali\n",
      "Enter the ith character: 2\n",
      "Soali\n"
     ]
    }
   ],
   "source": [
    "def remove_char():\n",
    "    in_str = input(\"Enter the string: \")\n",
    "    char_num = int(input(\"Enter the ith character: \"))\n",
    "    out_str = ''\n",
    "    for j in range(len(in_str)):\n",
    "        if j!=char_num:\n",
    "            out_str = out_str + in_str[j]\n",
    "    print(out_str)\n",
    "remove_char()"
   ]
  },
  {
   "cell_type": "code",
   "execution_count": 8,
   "id": "56553642",
   "metadata": {},
   "outputs": [],
   "source": [
    "#Q3. Write a Python program to split and join a string?"
   ]
  },
  {
   "cell_type": "code",
   "execution_count": 17,
   "id": "6041c0f4",
   "metadata": {},
   "outputs": [
    {
     "name": "stdout",
     "output_type": "stream",
     "text": [
      "enter the string: I WANT TO BECOME A DATA SCIENTIST\n",
      "Split String is:  ['I', 'WANT', 'TO', 'BECOME', 'A', 'DATA', 'SCIENTIST']\n",
      "Join String is:  I WANT TO BECOME A DATA SCIENTIST\n"
     ]
    }
   ],
   "source": [
    "def splitJoinStr():\n",
    "    str = input(\"enter the string: \")\n",
    "    print(\"Split String is: \",str.split(\" \"))\n",
    "    print(\"Join String is: \",\"\".join(str))\n",
    "splitJoinStr()"
   ]
  },
  {
   "cell_type": "code",
   "execution_count": 18,
   "id": "b322382b",
   "metadata": {},
   "outputs": [],
   "source": [
    "#Q4. Write a python to check if a given string is binary string or not? "
   ]
  },
  {
   "cell_type": "code",
   "execution_count": 20,
   "id": "9cff08bb",
   "metadata": {},
   "outputs": [
    {
     "name": "stdout",
     "output_type": "stream",
     "text": [
      "Enter the string: 011000100\n",
      "yes\n"
     ]
    }
   ],
   "source": [
    "def checkIsStrBin():\n",
    "    string = input(\"Enter the string: \")\n",
    "    if (string.count('0') + string.count('1') == len(string)):\n",
    "        print(\"yes\")\n",
    "    else:\n",
    "        print(\"no\")\n",
    "checkIsStrBin()"
   ]
  },
  {
   "cell_type": "code",
   "execution_count": 21,
   "id": "4b2a17b2",
   "metadata": {},
   "outputs": [],
   "source": [
    "#Q5. Write a python program to find uncommon words from two string?"
   ]
  },
  {
   "cell_type": "code",
   "execution_count": 24,
   "id": "5675f5b0",
   "metadata": {},
   "outputs": [
    {
     "name": "stdout",
     "output_type": "stream",
     "text": [
      "Enter the string1: She is a Data Scientist\n",
      "Enter the string2: He is a Data Engineer\n",
      "{'She', 'Scientist', 'Engineer', 'He'}\n"
     ]
    }
   ],
   "source": [
    "def unCommonWords():\n",
    "    str1 = set(input(\"Enter the string1: \").split(' '))\n",
    "    str2 = set(input(\"Enter the string2: \").split(' '))\n",
    "    str = (str1.union(str2)).difference(str1.intersection(str2))\n",
    "    print(str)\n",
    "unCommonWords()"
   ]
  },
  {
   "cell_type": "code",
   "execution_count": 25,
   "id": "49d4e6ad",
   "metadata": {},
   "outputs": [],
   "source": [
    "#Q6. Write a python to find all duplicate characters in string?"
   ]
  },
  {
   "cell_type": "code",
   "execution_count": 31,
   "id": "74248971",
   "metadata": {},
   "outputs": [
    {
     "name": "stdout",
     "output_type": "stream",
     "text": [
      "Enter the string: sreserawqxc\n",
      "Duplicate characters are: ['e', 'r', 's']\n"
     ]
    }
   ],
   "source": [
    "def duplicateChar():\n",
    "    str = input(\"Enter the string: \")\n",
    "    non_duplicate = []\n",
    "    duplicate = []\n",
    "    for i in str:\n",
    "        if i not in non_duplicate:\n",
    "            non_duplicate.append(i)\n",
    "        else:\n",
    "            duplicate.append(i)\n",
    "    print(f'Duplicate characters are: {list(set(duplicate))}')\n",
    "duplicateChar()"
   ]
  },
  {
   "cell_type": "code",
   "execution_count": 32,
   "id": "a9650373",
   "metadata": {},
   "outputs": [],
   "source": [
    "#Q7. Write a python program to check if a string contains any special characters?"
   ]
  },
  {
   "cell_type": "code",
   "execution_count": 1,
   "id": "5b670642",
   "metadata": {},
   "outputs": [
    {
     "name": "stdout",
     "output_type": "stream",
     "text": [
      "Enter the string: Sonali Thakur @ Data Scientist\n",
      "There are 1 special characters in Sonali Thakur @ Data Scientist which are ['@']\n"
     ]
    }
   ],
   "source": [
    "def checkSpecChar():\n",
    "    special_char = '[@_!#$%^&*()<>?|/\\{}~`:]'\n",
    "    str = input(\"Enter the string: \")\n",
    "    char_list = []\n",
    "    count = 0\n",
    "    for i in str:\n",
    "        if i in special_char:\n",
    "            char_list.append(i)\n",
    "            count=count+1\n",
    "    print(f\"There are {count} special characters in {str} which are {char_list}\")\n",
    "checkSpecChar()\n",
    "    \n",
    "            \n",
    "        \n",
    "        \n",
    "        \n",
    "        \n",
    "   \n",
    "        \n",
    "    \n",
    "\n",
    "            "
   ]
  },
  {
   "cell_type": "code",
   "execution_count": null,
   "id": "076fa5ac",
   "metadata": {},
   "outputs": [],
   "source": []
  }
 ],
 "metadata": {
  "kernelspec": {
   "display_name": "Python 3 (ipykernel)",
   "language": "python",
   "name": "python3"
  },
  "language_info": {
   "codemirror_mode": {
    "name": "ipython",
    "version": 3
   },
   "file_extension": ".py",
   "mimetype": "text/x-python",
   "name": "python",
   "nbconvert_exporter": "python",
   "pygments_lexer": "ipython3",
   "version": "3.9.12"
  }
 },
 "nbformat": 4,
 "nbformat_minor": 5
}
