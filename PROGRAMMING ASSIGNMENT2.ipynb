{
 "cells": [
  {
   "cell_type": "code",
   "execution_count": 1,
   "id": "591e0db9",
   "metadata": {},
   "outputs": [],
   "source": [
    "#Q1. Write a python program to convert kilometres to miles"
   ]
  },
  {
   "cell_type": "code",
   "execution_count": 2,
   "id": "a83d2864",
   "metadata": {},
   "outputs": [
    {
     "name": "stdout",
     "output_type": "stream",
     "text": [
      "Enter the value in km: 7.5\n",
      "The entered value in miles is:  4.6602825\n"
     ]
    }
   ],
   "source": [
    "km=float(input(\"Enter the value in km: \"))\n",
    "# 1 kilometre = 0.621371 miles\n",
    "ratio=0.621371\n",
    "mi=km*ratio\n",
    "print(\"The entered value in miles is: \",mi)"
   ]
  },
  {
   "cell_type": "code",
   "execution_count": 4,
   "id": "f515d531",
   "metadata": {},
   "outputs": [],
   "source": [
    "#Q2. Write a python program to convert celsius to fahrenheit?"
   ]
  },
  {
   "cell_type": "code",
   "execution_count": 1,
   "id": "facdfc23",
   "metadata": {},
   "outputs": [
    {
     "name": "stdout",
     "output_type": "stream",
     "text": [
      "Enter the temperature in celsius: 5.5\n",
      "temperature in fahrenheit is:  41.9\n"
     ]
    }
   ],
   "source": [
    "celsius=float(input(\"Enter the temperature in celsius: \"))\n",
    "farh=celsius*9/5+32\n",
    "print(\"temperature in fahrenheit is: \",farh)"
   ]
  },
  {
   "cell_type": "code",
   "execution_count": 6,
   "id": "21416fe6",
   "metadata": {},
   "outputs": [],
   "source": [
    "#Q3. Write a python program to display calender"
   ]
  },
  {
   "cell_type": "code",
   "execution_count": 17,
   "id": "9d5d50db",
   "metadata": {},
   "outputs": [
    {
     "name": "stdout",
     "output_type": "stream",
     "text": [
      "Enter year: 2022\n",
      "                                  2022\n",
      "\n",
      "      January                   February                   March\n",
      "Mo Tu We Th Fr Sa Su      Mo Tu We Th Fr Sa Su      Mo Tu We Th Fr Sa Su\n",
      "                1  2          1  2  3  4  5  6          1  2  3  4  5  6\n",
      " 3  4  5  6  7  8  9       7  8  9 10 11 12 13       7  8  9 10 11 12 13\n",
      "10 11 12 13 14 15 16      14 15 16 17 18 19 20      14 15 16 17 18 19 20\n",
      "17 18 19 20 21 22 23      21 22 23 24 25 26 27      21 22 23 24 25 26 27\n",
      "24 25 26 27 28 29 30      28                        28 29 30 31\n",
      "31\n",
      "\n",
      "       April                      May                       June\n",
      "Mo Tu We Th Fr Sa Su      Mo Tu We Th Fr Sa Su      Mo Tu We Th Fr Sa Su\n",
      "             1  2  3                         1             1  2  3  4  5\n",
      " 4  5  6  7  8  9 10       2  3  4  5  6  7  8       6  7  8  9 10 11 12\n",
      "11 12 13 14 15 16 17       9 10 11 12 13 14 15      13 14 15 16 17 18 19\n",
      "18 19 20 21 22 23 24      16 17 18 19 20 21 22      20 21 22 23 24 25 26\n",
      "25 26 27 28 29 30         23 24 25 26 27 28 29      27 28 29 30\n",
      "                          30 31\n",
      "\n",
      "        July                     August                  September\n",
      "Mo Tu We Th Fr Sa Su      Mo Tu We Th Fr Sa Su      Mo Tu We Th Fr Sa Su\n",
      "             1  2  3       1  2  3  4  5  6  7                1  2  3  4\n",
      " 4  5  6  7  8  9 10       8  9 10 11 12 13 14       5  6  7  8  9 10 11\n",
      "11 12 13 14 15 16 17      15 16 17 18 19 20 21      12 13 14 15 16 17 18\n",
      "18 19 20 21 22 23 24      22 23 24 25 26 27 28      19 20 21 22 23 24 25\n",
      "25 26 27 28 29 30 31      29 30 31                  26 27 28 29 30\n",
      "\n",
      "      October                   November                  December\n",
      "Mo Tu We Th Fr Sa Su      Mo Tu We Th Fr Sa Su      Mo Tu We Th Fr Sa Su\n",
      "                1  2          1  2  3  4  5  6                1  2  3  4\n",
      " 3  4  5  6  7  8  9       7  8  9 10 11 12 13       5  6  7  8  9 10 11\n",
      "10 11 12 13 14 15 16      14 15 16 17 18 19 20      12 13 14 15 16 17 18\n",
      "17 18 19 20 21 22 23      21 22 23 24 25 26 27      19 20 21 22 23 24 25\n",
      "24 25 26 27 28 29 30      28 29 30                  26 27 28 29 30 31\n",
      "31\n",
      "\n"
     ]
    }
   ],
   "source": [
    "import calendar\n",
    "yy=int(input(\"Enter year: \"))\n",
    "\n",
    "print(calendar.calendar(yy))"
   ]
  },
  {
   "cell_type": "code",
   "execution_count": 18,
   "id": "ad20c8e0",
   "metadata": {},
   "outputs": [],
   "source": [
    "#Q4. Write a python program to solve quadratic equation"
   ]
  },
  {
   "cell_type": "code",
   "execution_count": 22,
   "id": "df10b1a8",
   "metadata": {},
   "outputs": [
    {
     "name": "stdout",
     "output_type": "stream",
     "text": [
      "Enter value of a: 2\n",
      "Enter value of b: 5\n",
      "Enter value of b: 4\n",
      "Two distinct complex roots are:  (-0.5885621722338523, -1.9114378277661477)\n"
     ]
    }
   ],
   "source": [
    "import math\n",
    "a=int(input(\"Enter value of a: \"))\n",
    "b=int(input(\"Enter value of b: \"))\n",
    "c=int(input(\"Enter value of b: \"))\n",
    "\n",
    "d=(b**2)-(4*a*c)\n",
    "\n",
    "if d>0:\n",
    "    root1 = (-b+math.sqrtd/(2*a))\n",
    "    root2 = (-b-math.sqrtd/(2*a))\n",
    "    print(\"Two distinct real roots are: \",(root1,root2))\n",
    "elif d==0:\n",
    "    root1 = root2 = -b/(2*a)\n",
    "    print(\"Two equal nd real roots  are: \",(root1,root2))\n",
    "elif d<0:\n",
    "    root1=root2=-b/(2*a)\n",
    "    imaginary=math.sqrt(-d)/(2*a)\n",
    "    print(\"Two distinct complex roots are: \",(root1+imaginary,root2-imaginary))\n",
    "    "
   ]
  },
  {
   "cell_type": "code",
   "execution_count": 23,
   "id": "4b0d736e",
   "metadata": {},
   "outputs": [],
   "source": [
    "#Q5. Write a  python program too  swap two variables without temp variable?"
   ]
  },
  {
   "cell_type": "code",
   "execution_count": 25,
   "id": "9eb98130",
   "metadata": {},
   "outputs": [
    {
     "name": "stdout",
     "output_type": "stream",
     "text": [
      "value1: 5\n",
      "value2: 7\n",
      "Before swapping: \n",
      "value of x:  5 and y:  7\n",
      "After swapping: \n",
      "value of x:  7 and y:  5\n"
     ]
    }
   ],
   "source": [
    "x=int(input(\"value1: \"))\n",
    "y=int(input(\"value2: \"))\n",
    "print(\"Before swapping: \")\n",
    "print(\"value of x: \",x,\"and y: \",y)\n",
    "\n",
    "x,y=y,x\n",
    "\n",
    "print(\"After swapping: \")\n",
    "print(\"value of x: \",x,\"and y: \",y)"
   ]
  }
 ],
 "metadata": {
  "kernelspec": {
   "display_name": "Python 3 (ipykernel)",
   "language": "python",
   "name": "python3"
  },
  "language_info": {
   "codemirror_mode": {
    "name": "ipython",
    "version": 3
   },
   "file_extension": ".py",
   "mimetype": "text/x-python",
   "name": "python",
   "nbconvert_exporter": "python",
   "pygments_lexer": "ipython3",
   "version": "3.9.12"
  }
 },
 "nbformat": 4,
 "nbformat_minor": 5
}
