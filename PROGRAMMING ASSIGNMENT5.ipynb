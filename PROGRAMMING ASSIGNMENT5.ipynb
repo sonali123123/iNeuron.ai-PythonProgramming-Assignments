{
 "cells": [
  {
   "cell_type": "code",
   "execution_count": 1,
   "id": "c9f835e7",
   "metadata": {},
   "outputs": [],
   "source": [
    "#Q1. Write a python program to find LCM?\n"
   ]
  },
  {
   "cell_type": "code",
   "execution_count": 1,
   "id": "2a199885",
   "metadata": {},
   "outputs": [],
   "source": [
    "def calculate_lcm(x,y):\n",
    "    if x>y:\n",
    "        greater=x\n",
    "    else:\n",
    "        greater=y\n",
    "    while(True):\n",
    "        if((greater%x==0) and (greater%y==0)):\n",
    "            lcm=greater\n",
    "            break\n",
    "        greater+=1\n",
    "            \n",
    "    return lcm\n",
    "        \n",
    "            \n",
    "        \n",
    "    \n",
    "   "
   ]
  },
  {
   "cell_type": "code",
   "execution_count": 2,
   "id": "5f981f8c",
   "metadata": {},
   "outputs": [
    {
     "data": {
      "text/plain": [
       "5"
      ]
     },
     "execution_count": 2,
     "metadata": {},
     "output_type": "execute_result"
    }
   ],
   "source": [
    "calculate_lcm(1,5)"
   ]
  },
  {
   "cell_type": "code",
   "execution_count": 3,
   "id": "c7c82f67",
   "metadata": {},
   "outputs": [],
   "source": [
    "#Q2. Write a python program to find HCF"
   ]
  },
  {
   "cell_type": "code",
   "execution_count": 4,
   "id": "45f2793b",
   "metadata": {},
   "outputs": [],
   "source": [
    "def compute_hcf(x,y):\n",
    "    if x>y:\n",
    "        smaller = y\n",
    "    else:\n",
    "        smaller = x\n",
    "    for i in range(1,smaller+1):\n",
    "        if((x%i==0)and(y%i==0)):\n",
    "            hcf = i\n",
    "    return hcf"
   ]
  },
  {
   "cell_type": "code",
   "execution_count": 5,
   "id": "47a01b1b",
   "metadata": {},
   "outputs": [
    {
     "data": {
      "text/plain": [
       "2"
      ]
     },
     "execution_count": 5,
     "metadata": {},
     "output_type": "execute_result"
    }
   ],
   "source": [
    "compute_hcf(4,6)"
   ]
  },
  {
   "cell_type": "code",
   "execution_count": 3,
   "id": "5027597b",
   "metadata": {},
   "outputs": [],
   "source": [
    "#Q3. Write a python program to convert Decimal to Binary,Octal and Hexadecimal"
   ]
  },
  {
   "cell_type": "code",
   "execution_count": 2,
   "id": "e1fd8f97",
   "metadata": {},
   "outputs": [
    {
     "name": "stdout",
     "output_type": "stream",
     "text": [
      "Enter decimal value: 344\n",
      "The decimal value of 344 is: \n",
      "0b101011000 in binary.\n",
      "0o530 in octal.\n",
      "0x158 in hexadecimal.\n"
     ]
    }
   ],
   "source": [
    "dec=int(input(\"Enter decimal value: \"))\n",
    "\n",
    "print(\"The decimal value of\",dec,\"is: \")\n",
    "print(bin(dec),\"in binary.\")\n",
    "print(oct(dec),\"in octal.\")\n",
    "print(hex(dec),\"in hexadecimal.\")"
   ]
  },
  {
   "cell_type": "code",
   "execution_count": 3,
   "id": "4921f09b",
   "metadata": {},
   "outputs": [],
   "source": [
    "#Q4. Write a python program to find ASCII value  of a character"
   ]
  },
  {
   "cell_type": "code",
   "execution_count": 3,
   "id": "4c6b0c3e",
   "metadata": {},
   "outputs": [
    {
     "name": "stdout",
     "output_type": "stream",
     "text": [
      "enter the character: s\n",
      "The ASCII value of+c+is 115\n"
     ]
    }
   ],
   "source": [
    "c=input(\"enter the character: \")\n",
    "print(\"The ASCII value of\"\"+c+\"\"is\",ord(c))"
   ]
  },
  {
   "cell_type": "code",
   "execution_count": 4,
   "id": "e8a52b94",
   "metadata": {},
   "outputs": [],
   "source": [
    "#Q5. Write  a python program to make a simple calculator with 4 basic matheematical  operations"
   ]
  },
  {
   "cell_type": "code",
   "execution_count": 11,
   "id": "ae7f2a40",
   "metadata": {},
   "outputs": [
    {
     "name": "stdout",
     "output_type": "stream",
     "text": [
      "Enter first number: 7\n",
      "Enter second number: 6\n",
      "Enter the operation:'+',or,'-',or,'*',or,'/':  *\n",
      "42\n"
     ]
    }
   ],
   "source": [
    "a=int(input(\"Enter first number: \"))\n",
    "b=int(input(\"Enter second number: \"))\n",
    "operation=input(\"Enter the operation:'+',or,'-',or,'*',or,'/':  \")\n",
    "\n",
    "if operation=='+':\n",
    "    print(a+b)\n",
    "elif operation=='-':\n",
    "    print(a-b)\n",
    "elif operation=='*':\n",
    "    print(a*b)\n",
    "elif operation=='/':\n",
    "    print(a/b)\n",
    "else:\n",
    "    pass\n",
    "\n"
   ]
  }
 ],
 "metadata": {
  "kernelspec": {
   "display_name": "Python 3 (ipykernel)",
   "language": "python",
   "name": "python3"
  },
  "language_info": {
   "codemirror_mode": {
    "name": "ipython",
    "version": 3
   },
   "file_extension": ".py",
   "mimetype": "text/x-python",
   "name": "python",
   "nbconvert_exporter": "python",
   "pygments_lexer": "ipython3",
   "version": "3.9.12"
  }
 },
 "nbformat": 4,
 "nbformat_minor": 5
}
