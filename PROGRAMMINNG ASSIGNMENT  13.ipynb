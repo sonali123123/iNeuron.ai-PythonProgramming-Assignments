{
 "cells": [
  {
   "cell_type": "code",
   "execution_count": 1,
   "id": "e2e7a224",
   "metadata": {},
   "outputs": [],
   "source": [
    "#Q1. Write a program that calculates and prints the value acccording to the given formula:\n",
    "#    Q = Square root of[(2*C*D)/H]\n",
    "#    Following are the fixed values of C and H : C is 50 H is 30. D is the variable whose values should be input to your program\n",
    "#    in a command-separateed sequence."
   ]
  },
  {
   "cell_type": "code",
   "execution_count": 11,
   "id": "379abbe7",
   "metadata": {},
   "outputs": [
    {
     "name": "stdout",
     "output_type": "stream",
     "text": [
      "Enter the input: 100,200,0,300\n",
      "18,25,0,31\n"
     ]
    }
   ],
   "source": [
    "from math import sqrt\n",
    "def CalculateProgram():\n",
    "    in_input = eval(input(\"Enter the input: \"))\n",
    "    output = []\n",
    "    C = 50\n",
    "    H = 30\n",
    "    for i in in_input:\n",
    "        Q = str(int(sqrt((2*C*i)/H)))\n",
    "        output.append(Q)\n",
    "    print(format(','.join(output)))\n",
    "CalculateProgram()\n",
    "        "
   ]
  },
  {
   "cell_type": "code",
   "execution_count": 1,
   "id": "237b477f",
   "metadata": {},
   "outputs": [],
   "source": [
    "#Q2. Write a program which  takes 2 digits,X,Y as input and generates a 2-dimensional array .The element value in the i-th row \n",
    "#    and j-th column of the array should be i*j\n",
    "#    Note : i=0,1,.....,x-1 ; j = 0,1,...,y-1"
   ]
  },
  {
   "cell_type": "code",
   "execution_count": 3,
   "id": "5a7521d6",
   "metadata": {},
   "outputs": [
    {
     "name": "stdout",
     "output_type": "stream",
     "text": [
      "Enter the number of rows: 3\n",
      "Enter the number of columns: 3\n",
      "[[0, 0, 0], [0, 1, 2], [0, 2, 4]]\n"
     ]
    }
   ],
   "source": [
    "import array as arr\n",
    "def generateArray():\n",
    "    in_x = int(input(\"Enter the number of rows: \"))\n",
    "    in_y = int(input(\"Enter the number of columns: \"))\n",
    "    out_array = []\n",
    "    for i in range(in_x):\n",
    "        out_array.insert(in_x,[])\n",
    "        for j in range(in_y):\n",
    "            out_array[i].append(i*j)\n",
    "    print(out_array)\n",
    "generateArray()"
   ]
  },
  {
   "cell_type": "code",
   "execution_count": 4,
   "id": "4d88d3c6",
   "metadata": {},
   "outputs": [],
   "source": [
    "#Q3. Write a program that accepts a comma separated sequence of words as input  and prints the word in a comma-separated \n",
    "#    sequence after sorting them alphabetically?"
   ]
  },
  {
   "cell_type": "code",
   "execution_count": 9,
   "id": "9d6b12e4",
   "metadata": {},
   "outputs": [
    {
     "name": "stdout",
     "output_type": "stream",
     "text": [
      "Enter the stringhello,bag,world,without,apple,tree\n",
      "After sorting the string is : apple,bag,hello,tree,without,world\n"
     ]
    }
   ],
   "source": [
    "def sort_string():\n",
    "    in_input = input(\"Enter the string\")\n",
    "    out_str = ','.join(sorted(in_input.split(',')))\n",
    "    print(\"After sorting the string is :\",out_str)\n",
    "    \n",
    "sort_string()"
   ]
  },
  {
   "cell_type": "code",
   "execution_count": 10,
   "id": "3928228c",
   "metadata": {},
   "outputs": [],
   "source": [
    "#Q4. Write a program that accepts a sequence of whitespace sepaated words as input and prints the word after removing all \n",
    "#    duplicate words and sorting them alphanumerically"
   ]
  },
  {
   "cell_type": "code",
   "execution_count": 15,
   "id": "c60e6764",
   "metadata": {},
   "outputs": [
    {
     "name": "stdout",
     "output_type": "stream",
     "text": [
      "Enter the string : hello world and practice makes perfect and hello world again\n",
      "After sorting the string is:  again and hello makes perfect practice world\n"
     ]
    }
   ],
   "source": [
    "def sort_alphanum():\n",
    "    in_input = input(\"Enter the string : \")\n",
    "    out_str = ' '.join(sorted(sorted(list(set(in_input.split(\" \"))))))\n",
    "    print(\"After sorting the string is: \",out_str)\n",
    "sort_alphanum()"
   ]
  },
  {
   "cell_type": "code",
   "execution_count": 16,
   "id": "65124d53",
   "metadata": {},
   "outputs": [],
   "source": [
    "#Q5. Write a program that accepts a sentence and calculate the number of letters and digits"
   ]
  },
  {
   "cell_type": "code",
   "execution_count": 18,
   "id": "2b6d2a3c",
   "metadata": {},
   "outputs": [
    {
     "name": "stdout",
     "output_type": "stream",
     "text": [
      "Enter the string: Sonali2001\n",
      "Letters:  6\n",
      "Digits:  4\n"
     ]
    }
   ],
   "source": [
    "def countLetterDigit():\n",
    "    in_string = input(\"Enter the string: \")\n",
    "    letterList = 'ABCDEFGHIJKLMNOPQRSTUVWXYZabcdefghijklmnopqrstuvwxyz'\n",
    "    digitList = '0123456789'\n",
    "    letter = 0\n",
    "    digit =0\n",
    "    for i in in_string:\n",
    "        if i in letterList:\n",
    "            letter+=1\n",
    "        if i in digitList:\n",
    "            digit+=1\n",
    "    print(\"Letters: \", letter)\n",
    "    print(\"Digits: \", digit)\n",
    "countLetterDigit()"
   ]
  },
  {
   "cell_type": "code",
   "execution_count": 20,
   "id": "975ed1b5",
   "metadata": {},
   "outputs": [],
   "source": [
    "#Q6. A website requires the users to input username and password to register.Write a program to check the validity of password\n",
    "#    input by users.\n",
    "#    Following are the criteria for checking the password:\n",
    "#    1. At least 1 letter between[a-z]\n",
    "#    2. At least 1 number between[0-9]\n",
    "#    3. At least 1 letter between[A-Z]\n",
    "#    4.  At least 1 character from[$#@]\n",
    "#    5. Minimum length of transaction password : 6\n",
    "#    6. Maximum length of transaction password : 12\n",
    "\n",
    "#    Your program should accept a sequence of comma seperated passwords and will check them according to the above criteria.\n",
    "#    Passwords that match the criteria are to be printed,each separated by comma."
   ]
  },
  {
   "cell_type": "code",
   "execution_count": 24,
   "id": "b9b42f7c",
   "metadata": {},
   "outputs": [
    {
     "name": "stdout",
     "output_type": "stream",
     "text": [
      "Enter the password: ABd1234@1,aBh&*68\n",
      "ABd1234@1\n"
     ]
    }
   ],
   "source": [
    "def check_password():\n",
    "    in_input = input(\"Enter the password: \")\n",
    "    small_list = 'abcdefghijklmnopqrstuvwxyz'\n",
    "    cap_list = 'ABCDEFGHIJKLMNOPQRSTUVWXYZ'\n",
    "    digit_list = '0123456789'\n",
    "    char_list = '$#@'\n",
    "    for p in in_input.split(\",\"):\n",
    "        if len(p)<=12 and len(p)>=6:\n",
    "            if any(i.isupper() for i in p):\n",
    "                if any(i.islower() for i in  p):\n",
    "                    if any(i for i in p if i in char_list):\n",
    "                        print(p)\n",
    "check_password()"
   ]
  }
 ],
 "metadata": {
  "kernelspec": {
   "display_name": "Python 3 (ipykernel)",
   "language": "python",
   "name": "python3"
  },
  "language_info": {
   "codemirror_mode": {
    "name": "ipython",
    "version": 3
   },
   "file_extension": ".py",
   "mimetype": "text/x-python",
   "name": "python",
   "nbconvert_exporter": "python",
   "pygments_lexer": "ipython3",
   "version": "3.9.12"
  }
 },
 "nbformat": 4,
 "nbformat_minor": 5
}
